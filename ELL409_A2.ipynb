{
  "nbformat": 4,
  "nbformat_minor": 0,
  "metadata": {
    "colab": {
      "name": "ELL409_A2.ipynb",
      "provenance": [],
      "collapsed_sections": [],
      "toc_visible": true
    },
    "kernelspec": {
      "name": "python3",
      "display_name": "Python 3"
    },
    "language_info": {
      "name": "python"
    }
  },
  "cells": [
    {
      "cell_type": "markdown",
      "metadata": {
        "id": "U12TEtDPpj84"
      },
      "source": [
        "# **ELL409 Assignment 2**"
      ]
    },
    {
      "cell_type": "markdown",
      "metadata": {
        "id": "xEtM4wqGaEe6"
      },
      "source": [
        "## PART 1A"
      ]
    },
    {
      "cell_type": "markdown",
      "metadata": {
        "id": "ZUl_VhzTpwIi"
      },
      "source": [
        "Load dataset"
      ]
    },
    {
      "cell_type": "code",
      "metadata": {
        "colab": {
          "resources": {
            "http://localhost:8080/nbextensions/google.colab/files.js": {
              "data": "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",
              "ok": true,
              "headers": [
                [
                  "content-type",
                  "application/javascript"
                ]
              ],
              "status": 200,
              "status_text": ""
            }
          },
          "base_uri": "https://localhost:8080/",
          "height": 73
        },
        "id": "Y97I8uMhWwZ8",
        "outputId": "25a7826e-f5b8-4952-a821-091425b0ce6a"
      },
      "source": [
        "from google.colab import files\n",
        "uploaded = files.upload()"
      ],
      "execution_count": 1,
      "outputs": [
        {
          "output_type": "display_data",
          "data": {
            "text/html": [
              "\n",
              "     <input type=\"file\" id=\"files-a7c4c960-0b0a-4ecc-b6a5-96640b8ae5af\" name=\"files[]\" multiple disabled\n",
              "        style=\"border:none\" />\n",
              "     <output id=\"result-a7c4c960-0b0a-4ecc-b6a5-96640b8ae5af\">\n",
              "      Upload widget is only available when the cell has been executed in the\n",
              "      current browser session. Please rerun this cell to enable.\n",
              "      </output>\n",
              "      <script src=\"/nbextensions/google.colab/files.js\"></script> "
            ],
            "text/plain": [
              "<IPython.core.display.HTML object>"
            ]
          },
          "metadata": {}
        },
        {
          "output_type": "stream",
          "name": "stdout",
          "text": [
            "Saving 2019EE10451.csv to 2019EE10451.csv\n"
          ]
        }
      ]
    },
    {
      "cell_type": "markdown",
      "metadata": {
        "id": "67lW3TfPpyhZ"
      },
      "source": [
        "Import all required libraries and packages"
      ]
    },
    {
      "cell_type": "code",
      "metadata": {
        "id": "adUV-EiPe1pb"
      },
      "source": [
        "import io\n",
        "import random\n",
        "import pandas as pd\n",
        "import numpy as np\n",
        "import matplotlib.pyplot as plt\n",
        "import math\n",
        "from PIL import Image"
      ],
      "execution_count": 2,
      "outputs": []
    },
    {
      "cell_type": "markdown",
      "metadata": {
        "id": "4bj3-ajOp3Kk"
      },
      "source": [
        "Save the csv data to a dataframe named under the column headings for features as F1, F2, ... F25 and the class_label"
      ]
    },
    {
      "cell_type": "code",
      "metadata": {
        "id": "Pv4XhD_ce1rs",
        "colab": {
          "base_uri": "https://localhost:8080/",
          "height": 437
        },
        "outputId": "fa9edbee-e0f9-4419-b543-d6bddde5e8b0"
      },
      "source": [
        "IMAGE_DATA = pd.read_csv(io.BytesIO(uploaded['2019EE10451.csv']), names=['F1', 'F2', 'F3', 'F4', 'F5', 'F6', 'F7', 'F8', 'F9', 'F10', 'F11', 'F12', 'F13', 'F14', 'F15', 'F16', 'F17', 'F18', 'F19', 'F20', 'F21', 'F22', 'F23', 'F24', 'F25', 'class_label'])\n",
        "IMAGE_DATA"
      ],
      "execution_count": 3,
      "outputs": [
        {
          "output_type": "execute_result",
          "data": {
            "text/html": [
              "<div>\n",
              "<style scoped>\n",
              "    .dataframe tbody tr th:only-of-type {\n",
              "        vertical-align: middle;\n",
              "    }\n",
              "\n",
              "    .dataframe tbody tr th {\n",
              "        vertical-align: top;\n",
              "    }\n",
              "\n",
              "    .dataframe thead th {\n",
              "        text-align: right;\n",
              "    }\n",
              "</style>\n",
              "<table border=\"1\" class=\"dataframe\">\n",
              "  <thead>\n",
              "    <tr style=\"text-align: right;\">\n",
              "      <th></th>\n",
              "      <th>F1</th>\n",
              "      <th>F2</th>\n",
              "      <th>F3</th>\n",
              "      <th>F4</th>\n",
              "      <th>F5</th>\n",
              "      <th>F6</th>\n",
              "      <th>F7</th>\n",
              "      <th>F8</th>\n",
              "      <th>F9</th>\n",
              "      <th>F10</th>\n",
              "      <th>F11</th>\n",
              "      <th>F12</th>\n",
              "      <th>F13</th>\n",
              "      <th>F14</th>\n",
              "      <th>F15</th>\n",
              "      <th>F16</th>\n",
              "      <th>F17</th>\n",
              "      <th>F18</th>\n",
              "      <th>F19</th>\n",
              "      <th>F20</th>\n",
              "      <th>F21</th>\n",
              "      <th>F22</th>\n",
              "      <th>F23</th>\n",
              "      <th>F24</th>\n",
              "      <th>F25</th>\n",
              "      <th>class_label</th>\n",
              "    </tr>\n",
              "  </thead>\n",
              "  <tbody>\n",
              "    <tr>\n",
              "      <th>0</th>\n",
              "      <td>0.159628</td>\n",
              "      <td>3.569244</td>\n",
              "      <td>0.946156</td>\n",
              "      <td>-1.960936</td>\n",
              "      <td>-1.808959</td>\n",
              "      <td>1.756884</td>\n",
              "      <td>1.902109</td>\n",
              "      <td>1.658211</td>\n",
              "      <td>-0.048626</td>\n",
              "      <td>-1.542681</td>\n",
              "      <td>0.638329</td>\n",
              "      <td>0.433765</td>\n",
              "      <td>2.228255</td>\n",
              "      <td>0.327139</td>\n",
              "      <td>-1.303177</td>\n",
              "      <td>1.393693</td>\n",
              "      <td>-0.019134</td>\n",
              "      <td>-0.943978</td>\n",
              "      <td>0.303223</td>\n",
              "      <td>0.137926</td>\n",
              "      <td>-0.491582</td>\n",
              "      <td>0.970068</td>\n",
              "      <td>-1.207980</td>\n",
              "      <td>-0.007435</td>\n",
              "      <td>0.295797</td>\n",
              "      <td>7.0</td>\n",
              "    </tr>\n",
              "    <tr>\n",
              "      <th>1</th>\n",
              "      <td>-3.757384</td>\n",
              "      <td>-2.659323</td>\n",
              "      <td>0.574455</td>\n",
              "      <td>0.271007</td>\n",
              "      <td>-0.290319</td>\n",
              "      <td>1.655315</td>\n",
              "      <td>-0.248992</td>\n",
              "      <td>-0.433499</td>\n",
              "      <td>1.881514</td>\n",
              "      <td>-0.159983</td>\n",
              "      <td>-0.956245</td>\n",
              "      <td>-0.809724</td>\n",
              "      <td>-0.423412</td>\n",
              "      <td>1.311667</td>\n",
              "      <td>-1.348956</td>\n",
              "      <td>0.306147</td>\n",
              "      <td>-0.023741</td>\n",
              "      <td>0.334679</td>\n",
              "      <td>-0.424678</td>\n",
              "      <td>-0.014438</td>\n",
              "      <td>0.198325</td>\n",
              "      <td>-0.477875</td>\n",
              "      <td>-0.249894</td>\n",
              "      <td>-0.340756</td>\n",
              "      <td>0.341713</td>\n",
              "      <td>1.0</td>\n",
              "    </tr>\n",
              "    <tr>\n",
              "      <th>2</th>\n",
              "      <td>1.299146</td>\n",
              "      <td>-2.735298</td>\n",
              "      <td>-0.370838</td>\n",
              "      <td>-1.072876</td>\n",
              "      <td>0.363734</td>\n",
              "      <td>-0.321638</td>\n",
              "      <td>-2.370625</td>\n",
              "      <td>2.077341</td>\n",
              "      <td>-1.884790</td>\n",
              "      <td>-1.102868</td>\n",
              "      <td>-0.277414</td>\n",
              "      <td>1.599624</td>\n",
              "      <td>0.875395</td>\n",
              "      <td>1.488657</td>\n",
              "      <td>-0.384957</td>\n",
              "      <td>-2.044840</td>\n",
              "      <td>-0.223714</td>\n",
              "      <td>-0.836677</td>\n",
              "      <td>1.368997</td>\n",
              "      <td>-0.745012</td>\n",
              "      <td>-0.735964</td>\n",
              "      <td>0.229491</td>\n",
              "      <td>0.870503</td>\n",
              "      <td>0.705935</td>\n",
              "      <td>0.021808</td>\n",
              "      <td>3.0</td>\n",
              "    </tr>\n",
              "    <tr>\n",
              "      <th>3</th>\n",
              "      <td>2.133980</td>\n",
              "      <td>-1.039969</td>\n",
              "      <td>2.982761</td>\n",
              "      <td>2.167783</td>\n",
              "      <td>3.252064</td>\n",
              "      <td>2.388884</td>\n",
              "      <td>-0.242371</td>\n",
              "      <td>0.720401</td>\n",
              "      <td>1.304166</td>\n",
              "      <td>2.986695</td>\n",
              "      <td>0.136494</td>\n",
              "      <td>0.575337</td>\n",
              "      <td>-2.338978</td>\n",
              "      <td>-1.218089</td>\n",
              "      <td>1.575321</td>\n",
              "      <td>-1.542326</td>\n",
              "      <td>-0.389833</td>\n",
              "      <td>-1.908775</td>\n",
              "      <td>-0.008174</td>\n",
              "      <td>-0.559950</td>\n",
              "      <td>-0.753734</td>\n",
              "      <td>-0.122577</td>\n",
              "      <td>0.632917</td>\n",
              "      <td>0.615282</td>\n",
              "      <td>-0.870809</td>\n",
              "      <td>2.0</td>\n",
              "    </tr>\n",
              "    <tr>\n",
              "      <th>4</th>\n",
              "      <td>-0.003326</td>\n",
              "      <td>0.901577</td>\n",
              "      <td>1.910635</td>\n",
              "      <td>-0.772932</td>\n",
              "      <td>-1.807346</td>\n",
              "      <td>-1.344424</td>\n",
              "      <td>-0.860191</td>\n",
              "      <td>0.403589</td>\n",
              "      <td>1.154616</td>\n",
              "      <td>0.804863</td>\n",
              "      <td>-0.630059</td>\n",
              "      <td>1.240954</td>\n",
              "      <td>-0.202304</td>\n",
              "      <td>-0.520619</td>\n",
              "      <td>0.010471</td>\n",
              "      <td>2.655110</td>\n",
              "      <td>0.793499</td>\n",
              "      <td>0.231154</td>\n",
              "      <td>0.734458</td>\n",
              "      <td>-0.842683</td>\n",
              "      <td>0.927198</td>\n",
              "      <td>0.742997</td>\n",
              "      <td>-0.180037</td>\n",
              "      <td>-0.098434</td>\n",
              "      <td>0.444234</td>\n",
              "      <td>5.0</td>\n",
              "    </tr>\n",
              "    <tr>\n",
              "      <th>...</th>\n",
              "      <td>...</td>\n",
              "      <td>...</td>\n",
              "      <td>...</td>\n",
              "      <td>...</td>\n",
              "      <td>...</td>\n",
              "      <td>...</td>\n",
              "      <td>...</td>\n",
              "      <td>...</td>\n",
              "      <td>...</td>\n",
              "      <td>...</td>\n",
              "      <td>...</td>\n",
              "      <td>...</td>\n",
              "      <td>...</td>\n",
              "      <td>...</td>\n",
              "      <td>...</td>\n",
              "      <td>...</td>\n",
              "      <td>...</td>\n",
              "      <td>...</td>\n",
              "      <td>...</td>\n",
              "      <td>...</td>\n",
              "      <td>...</td>\n",
              "      <td>...</td>\n",
              "      <td>...</td>\n",
              "      <td>...</td>\n",
              "      <td>...</td>\n",
              "      <td>...</td>\n",
              "    </tr>\n",
              "    <tr>\n",
              "      <th>2995</th>\n",
              "      <td>2.379232</td>\n",
              "      <td>-4.261587</td>\n",
              "      <td>1.556199</td>\n",
              "      <td>-0.317397</td>\n",
              "      <td>2.937753</td>\n",
              "      <td>2.266487</td>\n",
              "      <td>0.101893</td>\n",
              "      <td>0.222937</td>\n",
              "      <td>-0.635389</td>\n",
              "      <td>1.806960</td>\n",
              "      <td>-0.856515</td>\n",
              "      <td>1.192357</td>\n",
              "      <td>1.025365</td>\n",
              "      <td>0.624855</td>\n",
              "      <td>0.525649</td>\n",
              "      <td>-1.484677</td>\n",
              "      <td>0.954978</td>\n",
              "      <td>0.983332</td>\n",
              "      <td>0.848278</td>\n",
              "      <td>0.052298</td>\n",
              "      <td>-0.483167</td>\n",
              "      <td>1.383113</td>\n",
              "      <td>1.227943</td>\n",
              "      <td>1.678325</td>\n",
              "      <td>-0.054884</td>\n",
              "      <td>2.0</td>\n",
              "    </tr>\n",
              "    <tr>\n",
              "      <th>2996</th>\n",
              "      <td>1.821868</td>\n",
              "      <td>-1.216249</td>\n",
              "      <td>0.214245</td>\n",
              "      <td>1.234396</td>\n",
              "      <td>-0.065284</td>\n",
              "      <td>-3.042794</td>\n",
              "      <td>0.328205</td>\n",
              "      <td>-1.254446</td>\n",
              "      <td>1.307043</td>\n",
              "      <td>-1.555220</td>\n",
              "      <td>-0.501167</td>\n",
              "      <td>-0.940197</td>\n",
              "      <td>-1.173121</td>\n",
              "      <td>-1.236090</td>\n",
              "      <td>0.844270</td>\n",
              "      <td>-1.118544</td>\n",
              "      <td>1.308122</td>\n",
              "      <td>-2.330845</td>\n",
              "      <td>-0.544630</td>\n",
              "      <td>0.312495</td>\n",
              "      <td>0.867649</td>\n",
              "      <td>0.097725</td>\n",
              "      <td>0.619841</td>\n",
              "      <td>0.444243</td>\n",
              "      <td>-0.022632</td>\n",
              "      <td>6.0</td>\n",
              "    </tr>\n",
              "    <tr>\n",
              "      <th>2997</th>\n",
              "      <td>1.565306</td>\n",
              "      <td>1.507884</td>\n",
              "      <td>-0.180076</td>\n",
              "      <td>1.441583</td>\n",
              "      <td>-0.243052</td>\n",
              "      <td>-3.173072</td>\n",
              "      <td>0.625337</td>\n",
              "      <td>0.570264</td>\n",
              "      <td>2.346996</td>\n",
              "      <td>-1.478877</td>\n",
              "      <td>-1.572103</td>\n",
              "      <td>-1.453141</td>\n",
              "      <td>1.817373</td>\n",
              "      <td>-0.113394</td>\n",
              "      <td>-0.131151</td>\n",
              "      <td>-0.886803</td>\n",
              "      <td>-0.474844</td>\n",
              "      <td>-0.451027</td>\n",
              "      <td>1.079164</td>\n",
              "      <td>0.529654</td>\n",
              "      <td>0.246758</td>\n",
              "      <td>0.806998</td>\n",
              "      <td>0.841608</td>\n",
              "      <td>1.520698</td>\n",
              "      <td>-0.680300</td>\n",
              "      <td>0.0</td>\n",
              "    </tr>\n",
              "    <tr>\n",
              "      <th>2998</th>\n",
              "      <td>0.342392</td>\n",
              "      <td>-1.140653</td>\n",
              "      <td>-0.959847</td>\n",
              "      <td>-3.527928</td>\n",
              "      <td>0.649335</td>\n",
              "      <td>-1.883170</td>\n",
              "      <td>0.169109</td>\n",
              "      <td>-0.366158</td>\n",
              "      <td>-2.099839</td>\n",
              "      <td>1.018491</td>\n",
              "      <td>-0.354647</td>\n",
              "      <td>-0.100109</td>\n",
              "      <td>-0.200731</td>\n",
              "      <td>0.170545</td>\n",
              "      <td>0.531867</td>\n",
              "      <td>0.636273</td>\n",
              "      <td>0.123440</td>\n",
              "      <td>-0.056618</td>\n",
              "      <td>-0.868468</td>\n",
              "      <td>0.965434</td>\n",
              "      <td>-0.386861</td>\n",
              "      <td>-1.083007</td>\n",
              "      <td>-1.368337</td>\n",
              "      <td>-1.088615</td>\n",
              "      <td>0.096745</td>\n",
              "      <td>5.0</td>\n",
              "    </tr>\n",
              "    <tr>\n",
              "      <th>2999</th>\n",
              "      <td>-1.108781</td>\n",
              "      <td>-1.079360</td>\n",
              "      <td>1.237192</td>\n",
              "      <td>-2.404910</td>\n",
              "      <td>2.207245</td>\n",
              "      <td>-1.233720</td>\n",
              "      <td>1.408190</td>\n",
              "      <td>1.097950</td>\n",
              "      <td>0.207503</td>\n",
              "      <td>0.564823</td>\n",
              "      <td>0.572016</td>\n",
              "      <td>0.504234</td>\n",
              "      <td>0.252221</td>\n",
              "      <td>1.407788</td>\n",
              "      <td>0.051619</td>\n",
              "      <td>-1.374232</td>\n",
              "      <td>0.387973</td>\n",
              "      <td>-0.729051</td>\n",
              "      <td>-0.040038</td>\n",
              "      <td>-0.594674</td>\n",
              "      <td>1.567536</td>\n",
              "      <td>1.579856</td>\n",
              "      <td>-1.146525</td>\n",
              "      <td>-0.301634</td>\n",
              "      <td>1.873800</td>\n",
              "      <td>3.0</td>\n",
              "    </tr>\n",
              "  </tbody>\n",
              "</table>\n",
              "<p>3000 rows × 26 columns</p>\n",
              "</div>"
            ],
            "text/plain": [
              "            F1        F2        F3  ...       F24       F25  class_label\n",
              "0     0.159628  3.569244  0.946156  ... -0.007435  0.295797          7.0\n",
              "1    -3.757384 -2.659323  0.574455  ... -0.340756  0.341713          1.0\n",
              "2     1.299146 -2.735298 -0.370838  ...  0.705935  0.021808          3.0\n",
              "3     2.133980 -1.039969  2.982761  ...  0.615282 -0.870809          2.0\n",
              "4    -0.003326  0.901577  1.910635  ... -0.098434  0.444234          5.0\n",
              "...        ...       ...       ...  ...       ...       ...          ...\n",
              "2995  2.379232 -4.261587  1.556199  ...  1.678325 -0.054884          2.0\n",
              "2996  1.821868 -1.216249  0.214245  ...  0.444243 -0.022632          6.0\n",
              "2997  1.565306  1.507884 -0.180076  ...  1.520698 -0.680300          0.0\n",
              "2998  0.342392 -1.140653 -0.959847  ... -1.088615  0.096745          5.0\n",
              "2999 -1.108781 -1.079360  1.237192  ... -0.301634  1.873800          3.0\n",
              "\n",
              "[3000 rows x 26 columns]"
            ]
          },
          "metadata": {},
          "execution_count": 3
        }
      ]
    },
    {
      "cell_type": "markdown",
      "metadata": {
        "id": "OnXOmLfAqFxn"
      },
      "source": [
        "### **Attempt to plot the data values (image)**"
      ]
    },
    {
      "cell_type": "markdown",
      "metadata": {
        "id": "0euDjmbaqU2c"
      },
      "source": [
        "We take every 5 set of features a pixel values (relative) in every row (horizontal).\n"
      ]
    },
    {
      "cell_type": "code",
      "metadata": {
        "id": "ijO-QZKye1zh"
      },
      "source": [
        "def print_image_h(m, IMAGE_NAME):\n",
        "  image1 = IMAGE_DATA.iloc[m,:].values\n",
        "  val = image1[25]\n",
        "  image1 = image1[0:25]\n",
        "  i1 = [[0]*5]*5\n",
        "  i,j=0,0\n",
        "  while(i<5):\n",
        "    while(j<5):\n",
        "      i1[i][j] = image1[i+j]\n",
        "      j = j+1\n",
        "    i = i+1\n",
        "  img1 = np.array(i1, dtype=np.uint8)\n",
        "  img = Image.fromarray(img1)\n",
        "  size = 500, 300\n",
        "  img = img.resize(size)\n",
        "  print('image number =', m, 'index value:', val)\n",
        "  return img\n"
      ],
      "execution_count": 4,
      "outputs": []
    },
    {
      "cell_type": "code",
      "metadata": {
        "id": "K82SMkx4e14l"
      },
      "source": [
        "for i in range(0,20):\n",
        "  display(print_image_h(i, 'img.png'))\n",
        "  print('\\n')"
      ],
      "execution_count": null,
      "outputs": []
    },
    {
      "cell_type": "markdown",
      "metadata": {
        "id": "qT5IuiucqyQ9"
      },
      "source": [
        "We take every 5 set of features a pixel values (relative) in every column (vertical)."
      ]
    },
    {
      "cell_type": "code",
      "metadata": {
        "id": "fkL-FjDQn5tM"
      },
      "source": [
        "def print_image_v(m, IMAGE_NAME):\n",
        "  image1 = IMAGE_DATA.iloc[m,:].values\n",
        "  val = image1[25]\n",
        "  image1 = image1[0:25]\n",
        "  i1 = [[0]*5]*5\n",
        "  i,j=0,0\n",
        "  while(i<5):\n",
        "    while(j<5):\n",
        "      i1[i][j] = image1[i+5*j]\n",
        "      j = j+1\n",
        "    i = i+1\n",
        "  img1 = np.array(i1, dtype=np.uint8)\n",
        "  img = Image.fromarray(img1)\n",
        "  size = 500, 300\n",
        "  img = img.resize(size)\n",
        "  print('image number =', m, 'index value:', val)\n",
        "  return img\n"
      ],
      "execution_count": 6,
      "outputs": []
    },
    {
      "cell_type": "code",
      "metadata": {
        "id": "KCithFTBsEFW"
      },
      "source": [
        "for i in range(0,20):\n",
        "  display(print_image_v(i, 'img.png'))\n",
        "  print('\\n')"
      ],
      "execution_count": null,
      "outputs": []
    },
    {
      "cell_type": "markdown",
      "metadata": {
        "id": "vDeH5Ubhrdk0"
      },
      "source": [
        "###**Trial for LIBSVM Library**"
      ]
    },
    {
      "cell_type": "code",
      "metadata": {
        "colab": {
          "base_uri": "https://localhost:8080/"
        },
        "id": "62-4YPHfsEHk",
        "outputId": "6da060df-95f7-4ceb-958f-8e2ccb178483"
      },
      "source": [
        "!pip install -U libsvm-official\n",
        "from libsvm.svmutil import *"
      ],
      "execution_count": 33,
      "outputs": [
        {
          "output_type": "stream",
          "name": "stdout",
          "text": [
            "Collecting libsvm-official\n",
            "  Downloading libsvm-official-3.25.0.tar.gz (39 kB)\n",
            "Requirement already satisfied: scipy in /usr/local/lib/python3.7/dist-packages (from libsvm-official) (1.4.1)\n",
            "Requirement already satisfied: numpy>=1.13.3 in /usr/local/lib/python3.7/dist-packages (from scipy->libsvm-official) (1.19.5)\n",
            "Building wheels for collected packages: libsvm-official\n",
            "  Building wheel for libsvm-official (setup.py) ... \u001b[?25l\u001b[?25hdone\n",
            "  Created wheel for libsvm-official: filename=libsvm_official-3.25.0-cp37-cp37m-linux_x86_64.whl size=99086 sha256=fee75cc2bcc3f568222cc17134c1da3249490e6e3063560dbe912659859d46d4\n",
            "  Stored in directory: /root/.cache/pip/wheels/c2/c8/dc/2dea0257b8e7196981e07a44abd9b33b0c38abb1a141b6a4f8\n",
            "Successfully built libsvm-official\n",
            "Installing collected packages: libsvm-official\n",
            "Successfully installed libsvm-official-3.25.0\n"
          ]
        }
      ]
    },
    {
      "cell_type": "code",
      "metadata": {
        "id": "L9QYb8ZcsEJi"
      },
      "source": [
        "x = IMAGE_DATA.drop(['class_label'], axis = 1)\n",
        "x = x.to_numpy()\n",
        "y = IMAGE_DATA['class_label']\n",
        "y = y.to_numpy()"
      ],
      "execution_count": 9,
      "outputs": []
    },
    {
      "cell_type": "code",
      "metadata": {
        "id": "PAcY0QacsENV"
      },
      "source": [
        "prob = svm_problem(y,x)\n",
        "param = svm_parameter()\n",
        "param = svm_parameter('-t 0 -c 4 -b 1')\n",
        "model = svm_train(prob, param)"
      ],
      "execution_count": 10,
      "outputs": []
    },
    {
      "cell_type": "code",
      "metadata": {
        "colab": {
          "base_uri": "https://localhost:8080/"
        },
        "id": "M2_A3i0ejUr1",
        "outputId": "c089bd97-7eb4-4cae-bf2d-da450c7f3c4d"
      },
      "source": [
        "p_label, p_acc, p_val = svm_predict(y, x, model, '-b 1')\n",
        "ACC, MSE, SCC = evaluations(y, p_label)"
      ],
      "execution_count": 11,
      "outputs": [
        {
          "output_type": "stream",
          "name": "stdout",
          "text": [
            "Accuracy = 95% (2850/3000) (classification)\n"
          ]
        }
      ]
    },
    {
      "cell_type": "code",
      "metadata": {
        "colab": {
          "base_uri": "https://localhost:8080/"
        },
        "id": "BL3lqw-ZjUvn",
        "outputId": "450decd3-e07b-4b23-fd0d-866e1061612c"
      },
      "source": [
        "# -t 0 is LINEAR model  \n",
        "\n",
        "prob = svm_problem(y,x)\n",
        "#param = svm_parameter(kernel_type=RBF)\n",
        "#param = svm_parameter('-s 0 -t 2 -d 3 -c 4 -b 1')\n",
        "param = svm_parameter()\n",
        "param.kerner_type = LINEAR\n",
        "param.C = 10\n",
        "model = svm_train(prob, param)\n",
        "p_label, p_acc, p_val = svm_predict(y, x, model, '-b 0')\n",
        "ACC, MSE, SCC = evaluations(y, p_label)"
      ],
      "execution_count": 12,
      "outputs": [
        {
          "output_type": "stream",
          "name": "stdout",
          "text": [
            "Accuracy = 100% (3000/3000) (classification)\n"
          ]
        }
      ]
    },
    {
      "cell_type": "markdown",
      "metadata": {
        "id": "i0E6b1Hmrrd_"
      },
      "source": [
        "###**LIBSVM Binary Classification**"
      ]
    },
    {
      "cell_type": "code",
      "metadata": {
        "id": "dNfkaAV6yKBm"
      },
      "source": [
        "def select_label(data, label1, label2):\n",
        "  sel_data1 = data.loc[data['class_label']==label1]\n",
        "  sel_data2 = data.loc[data['class_label']==label2]\n",
        "  sel_data = pd.concat([sel_data1,sel_data2])\n",
        "  return sel_data"
      ],
      "execution_count": 9,
      "outputs": []
    },
    {
      "cell_type": "code",
      "metadata": {
        "colab": {
          "base_uri": "https://localhost:8080/"
        },
        "id": "XgvoTAJAyKFW",
        "outputId": "ed455616-6a6a-4dd3-db34-db8a2a7b1f5e"
      },
      "source": [
        "mod_data = select_label(IMAGE_DATA, 1.0,2.0)\n",
        "np.shape(mod_data)"
      ],
      "execution_count": 14,
      "outputs": [
        {
          "output_type": "execute_result",
          "data": {
            "text/plain": [
              "(638, 26)"
            ]
          },
          "metadata": {},
          "execution_count": 14
        }
      ]
    },
    {
      "cell_type": "code",
      "metadata": {
        "id": "srMdbmDIyKIJ"
      },
      "source": [
        "from sklearn.datasets import make_blobs\n",
        "from sklearn.model_selection import train_test_split\n",
        "\n",
        "def partition(data, percent_train):\n",
        "  X = data.drop(['class_label'], axis = 1)\n",
        "  X = X.to_numpy()\n",
        "  y = data['class_label']\n",
        "  y = y.to_numpy()\n",
        "  X_train, X_test, y_train, y_test = train_test_split(X, y, test_size= 1 - (percent_train/100))\n",
        "  return X_train, X_test, y_train, y_test"
      ],
      "execution_count": 7,
      "outputs": []
    },
    {
      "cell_type": "code",
      "metadata": {
        "id": "YGnEb_t3yKK5",
        "colab": {
          "base_uri": "https://localhost:8080/"
        },
        "outputId": "4b594afc-9bc3-43b8-a2f7-ae1ad2cbbb07"
      },
      "source": [
        "T1, T2, T3, T4 = partition(IMAGE_DATA, 80)\n",
        "print(np.shape(T1))\n",
        "print(np.shape(T2))\n",
        "print(np.shape(T3))\n",
        "print(np.shape(T4))"
      ],
      "execution_count": 16,
      "outputs": [
        {
          "output_type": "stream",
          "name": "stdout",
          "text": [
            "(2400, 25)\n",
            "(600, 25)\n",
            "(2400,)\n",
            "(600,)\n"
          ]
        }
      ]
    },
    {
      "cell_type": "code",
      "metadata": {
        "id": "yRJ_Q0i6yKM4"
      },
      "source": [
        "def test_results(data, parameter_string = None, label1 = 0, label2 = 1, percent_train = 80):\n",
        "  mod_data = select_label(data, label1, label2)\n",
        "  t1, t2, t3, t4 = partition(mod_data, percent_train)\n",
        "  prob = svm_problem(t3,t1)\n",
        "  param = svm_parameter(parameter_string)\n",
        "  model = svm_train(prob, param)\n",
        "  p_label, p_acc, p_val = svm_predict(t4, t2, model)\n",
        "  ACC, MSE, SCC = evaluations(t4, p_label)\n",
        "  return ACC"
      ],
      "execution_count": 8,
      "outputs": []
    },
    {
      "cell_type": "markdown",
      "metadata": {
        "id": "YnJeeOWoRj9l"
      },
      "source": [
        "### **Hyperparameter tuning for LIBSVM**<br>\n",
        "\n",
        "-s svm_type : set type of SVM (default 0)<br>\n",
        "1) 0 -- C-SVC<br>\n",
        "2) 1 -- nu-SVC<br>\n",
        "3) 2 -- one-class SVM<br>\n",
        "4) 3 -- epsilon-SVR<br>\n",
        "5) 4 -- nu-SVR<br>\n",
        "\n",
        "-t kernel_type : set type of kernel function (default 2)<br>\n",
        "1) 0 -- linear<br>\n",
        "2) 1 -- polynomial<br>\n",
        "3) 2 -- radial basis function<br>\n",
        "4) 3 -- sigmoid<br>\n",
        "\n",
        "-d degree : set degree in kernel function (default 3)<br>\n",
        "\n",
        "-g gamma : set gamma in kernel function (default 1/num_features)<br>\n",
        "\n",
        "-r coef0 : set coef0 in kernel function (default 0)<br>\n",
        "\n",
        "-c cost : set the parameter C of C-SVC, epsilon-SVR, and nu-SVR (default 1)<br>\n",
        "\n",
        "-b probability_estimates: whether to train a SVC or SVR model for probability estimates, 0 or 1 (default 0)<br>\n",
        "\n",
        "-wi weight: set the parameter C of class i to weight*C, for C-SVC (default 1)<br>\n"
      ]
    },
    {
      "cell_type": "code",
      "metadata": {
        "id": "a4dyAkQ3MqXu",
        "colab": {
          "base_uri": "https://localhost:8080/"
        },
        "outputId": "9f6773b6-16a7-462b-9148-0a51de8fcfd3"
      },
      "source": [
        "# KERNEL = linear ; cost = 10 ; degree = {0, 1, 2, 3, 4, 5, 6, 7, 8, 9}\n",
        "\n",
        "ACC0 = test_results(IMAGE_DATA, '-s 0 -c 10 -t 0 -r 1 -d 0', 3, 4, 75)\n",
        "ACC1 = test_results(IMAGE_DATA, '-s 0 -c 10 -t 0 -r 1 -d 1', 3, 4, 75)\n",
        "ACC2 = test_results(IMAGE_DATA, '-s 0 -c 10 -t 0 -r 1 -d 2', 3, 4, 75)\n",
        "ACC3 = test_results(IMAGE_DATA, '-s 0 -c 10 -t 0 -r 1 -d 3', 3, 4, 75)\n",
        "ACC4 = test_results(IMAGE_DATA, '-s 0 -c 10 -t 0 -r 1 -d 4', 3, 4, 75)\n",
        "ACC5 = test_results(IMAGE_DATA, '-s 0 -c 10 -t 0 -r 1 -d 5', 3, 4, 75)\n",
        "ACC6 = test_results(IMAGE_DATA, '-s 0 -c 10 -t 0 -r 1 -d 6', 3, 4, 75)\n",
        "ACC7 = test_results(IMAGE_DATA, '-s 0 -c 10 -t 0 -r 1 -d 7', 3, 4, 75)\n",
        "ACC8 = test_results(IMAGE_DATA, '-s 0 -c 10 -t 0 -r 1 -d 8', 3, 4, 75)\n",
        "ACC9 = test_results(IMAGE_DATA, '-s 0 -c 10 -t 0 -r 1 -d 9', 3, 4, 75)"
      ],
      "execution_count": 18,
      "outputs": [
        {
          "output_type": "stream",
          "name": "stdout",
          "text": [
            "Accuracy = 97.931% (142/145) (classification)\n",
            "Accuracy = 99.3103% (144/145) (classification)\n",
            "Accuracy = 100% (145/145) (classification)\n",
            "Accuracy = 99.3103% (144/145) (classification)\n",
            "Accuracy = 97.2414% (141/145) (classification)\n",
            "Accuracy = 100% (145/145) (classification)\n",
            "Accuracy = 94.4828% (137/145) (classification)\n",
            "Accuracy = 95.1724% (138/145) (classification)\n",
            "Accuracy = 99.3103% (144/145) (classification)\n",
            "Accuracy = 97.931% (142/145) (classification)\n"
          ]
        }
      ]
    },
    {
      "cell_type": "code",
      "metadata": {
        "id": "6c0wmLpZVHba"
      },
      "source": [
        "import matplotlib.pyplot as plt\n",
        "\n",
        "def plot_lin(data, label1, label2, percent, N):\n",
        "  fig, ax = plt.subplots()\n",
        "  fig.set_size_inches(15, 7.5)\n",
        "  plt.title(\"Test accuracy vs degree in kernel function (kernel type = LINEAR)\", fontsize=20)\n",
        "  plt.xlabel(\"degree\")\n",
        "  plt.ylabel(\"Test accuracy\")\n",
        "  ax. xaxis. label. set_size(20)\n",
        "  ax. yaxis. label. set_size(20)\n",
        "  plt.xticks(fontsize=20)\n",
        "  plt.yticks(fontsize=20)\n",
        "  for i in range(0, N):\n",
        "    ACC0 = test_results(data, '-s 0 -c 10 -t 0 -r 1 -d 0', label1, label2, percent)\n",
        "    ACC1 = test_results(data, '-s 0 -c 10 -t 0 -r 1 -d 1', label1, label2, percent)\n",
        "    ACC2 = test_results(data, '-s 0 -c 10 -t 0 -r 1 -d 2', label1, label2, percent)\n",
        "    ACC3 = test_results(data, '-s 0 -c 10 -t 0 -r 1 -d 3', label1, label2, percent)\n",
        "    ACC4 = test_results(data, '-s 0 -c 10 -t 0 -r 1 -d 4', label1, label2, percent)\n",
        "    ACC5 = test_results(data, '-s 0 -c 10 -t 0 -r 1 -d 5', label1, label2, percent)\n",
        "    ACC6 = test_results(data, '-s 0 -c 10 -t 0 -r 1 -d 6', label1, label2, percent)\n",
        "    ACC7 = test_results(data, '-s 0 -c 10 -t 0 -r 1 -d 7', label1, label2, percent)\n",
        "    ACC8 = test_results(data, '-s 0 -c 10 -t 0 -r 1 -d 8', label1, label2, percent)\n",
        "    ACC9 = test_results(data, '-s 0 -c 10 -t 0 -r 1 -d 9', label1, label2, percent)\n",
        "    xpoints = [0, 1, 2, 3, 4, 5, 6, 7, 8, 9]\n",
        "    ypoints = [ACC0, ACC1, ACC2, ACC3, ACC4, ACC5, ACC6, ACC7, ACC8, ACC9]\n",
        "    \n",
        "    plt.plot(xpoints, ypoints, linestyle='--', linewidth=5, label=i)\n",
        "\n",
        "  plt.legend(fontsize=20)\n",
        "  return plt\n",
        "  "
      ],
      "execution_count": 19,
      "outputs": []
    },
    {
      "cell_type": "code",
      "metadata": {
        "id": "8HiAMrNCMqcA"
      },
      "source": [
        "def plot_poly(data, label1, label2, percent, N):\n",
        "  fig, ax = plt.subplots()\n",
        "  fig.set_size_inches(15, 7.5)\n",
        "  plt.title(\"Test accuracy vs degree in kernel function (kernel type = POLYNOMIAL)\", fontsize=20)\n",
        "  plt.xlabel(\"degree\")\n",
        "  plt.ylabel(\"Test accuracy\")\n",
        "  ax. xaxis. label. set_size(20)\n",
        "  ax. yaxis. label. set_size(20)\n",
        "  plt.xticks(fontsize=20)\n",
        "  plt.yticks(fontsize=20)\n",
        "  for i in range(0, N):\n",
        "    ACC0 = test_results(data, '-s 0 -c 10 -t 1 -r 1 -d 0', label1, label2, percent)\n",
        "    ACC1 = test_results(data, '-s 0 -c 10 -t 1 -r 1 -d 1', label1, label2, percent)\n",
        "    ACC2 = test_results(data, '-s 0 -c 10 -t 1 -r 1 -d 2', label1, label2, percent)\n",
        "    ACC3 = test_results(data, '-s 0 -c 10 -t 1 -r 1 -d 3', label1, label2, percent)\n",
        "    ACC4 = test_results(data, '-s 0 -c 10 -t 1 -r 1 -d 4', label1, label2, percent)\n",
        "    ACC5 = test_results(data, '-s 0 -c 10 -t 1 -r 1 -d 5', label1, label2, percent)\n",
        "    ACC6 = test_results(data, '-s 0 -c 10 -t 1 -r 1 -d 6', label1, label2, percent)\n",
        "    ACC7 = test_results(data, '-s 0 -c 10 -t 1 -r 1 -d 7', label1, label2, percent)\n",
        "    ACC8 = test_results(data, '-s 0 -c 10 -t 1 -r 1 -d 8', label1, label2, percent)\n",
        "    ACC9 = test_results(data, '-s 0 -c 10 -t 1 -r 1 -d 9', label1, label2, percent)\n",
        "    xpoints = [0, 1, 2, 3, 4, 5, 6, 7, 8, 9]\n",
        "    ypoints = [ACC0, ACC1, ACC2, ACC3, ACC4, ACC5, ACC6, ACC7, ACC8, ACC9]\n",
        "    \n",
        "    plt.plot(xpoints, ypoints, linestyle='--', linewidth=5, label=i)\n",
        "\n",
        "  plt.legend(fontsize=20)\n",
        "  return plt"
      ],
      "execution_count": 20,
      "outputs": []
    },
    {
      "cell_type": "code",
      "metadata": {
        "id": "8Us6FkFeMqew"
      },
      "source": [
        "def plot_rbf(data, label1, label2, percent, N):\n",
        "  fig, ax = plt.subplots()\n",
        "  fig.set_size_inches(15, 7.5)\n",
        "  plt.title(\"Test accuracy vs gamma (kernel type = RADIAL BASIS FUNCTION)\", fontsize=20)\n",
        "  plt.xlabel(\"gamma\")\n",
        "  plt.ylabel(\"Test accuracy\")\n",
        "  ax. xaxis. label. set_size(20)\n",
        "  ax. yaxis. label. set_size(20)\n",
        "  plt.xticks(fontsize=20)\n",
        "  plt.yticks(fontsize=20)\n",
        "  for i in range(0, N):\n",
        "    ACC0 = test_results(data, '-s 0 -c 10 -t 2 -r 1 -d 3 -g 0.015625', label1, label2, percent)\n",
        "    ACC1 = test_results(data, '-s 0 -c 10 -t 2 -r 1 -d 3 -g 0.03125', label1, label2, percent)\n",
        "    ACC2 = test_results(data, '-s 0 -c 10 -t 2 -r 1 -d 3 -g 0.0625', label1, label2, percent)\n",
        "    ACC3 = test_results(data, '-s 0 -c 10 -t 2 -r 1 -d 3 -g 0.125', label1, label2, percent)\n",
        "    ACC4 = test_results(data, '-s 0 -c 10 -t 2 -r 1 -d 3 -g 0.25', label1, label2, percent)\n",
        "    ACC5 = test_results(data, '-s 0 -c 10 -t 2 -r 1 -d 3 -g 0.5', label1, label2, percent)\n",
        "    ACC6 = test_results(data, '-s 0 -c 10 -t 2 -r 1 -d 3 -g 1', label1, label2, percent)\n",
        "    ACC7 = test_results(data, '-s 0 -c 10 -t 2 -r 1 -d 3 -g 2', label1, label2, percent)\n",
        "    ACC8 = test_results(data, '-s 0 -c 10 -t 2 -r 1 -d 3 -g 4', label1, label2, percent)\n",
        "    ACC9 = test_results(data, '-s 0 -c 10 -t 2 -r 1 -d 3 -g 8', label1, label2, percent)\n",
        "    xpoints = [0.015625, 0.03125, 0.0625, 0.125, 0.25, 0.5, 1, 2, 4, 8]\n",
        "    ypoints = [ACC0, ACC1, ACC2, ACC3, ACC4, ACC5, ACC6, ACC7, ACC8, ACC9]\n",
        "    \n",
        "    plt.plot(xpoints, ypoints, linestyle='--', linewidth=5, label=i)\n",
        "\n",
        "  plt.legend(fontsize=20)\n",
        "  return plt"
      ],
      "execution_count": 21,
      "outputs": []
    },
    {
      "cell_type": "code",
      "metadata": {
        "id": "BQ4bD2qtcxww"
      },
      "source": [
        "def plot_kernel(data, label1, label2, percent, N):\n",
        "  fig, ax = plt.subplots()\n",
        "  fig.set_size_inches(15, 7.5)\n",
        "  plt.title(\"Test accuracy vs kernel type\", fontsize=20)\n",
        "  plt.xlabel(\"kernel type\")\n",
        "  plt.ylabel(\"Test accuracy\")\n",
        "  ax. xaxis. label. set_size(20)\n",
        "  ax. yaxis. label. set_size(20)\n",
        "  plt.xticks(fontsize=20)\n",
        "  plt.yticks(fontsize=20)\n",
        "  for i in range(0, N):\n",
        "    ACC0 = test_results(data, '-s 0 -c 10 -t 0 -r 1 -d 3', label1, label2, percent)\n",
        "    ACC1 = test_results(data, '-s 0 -c 10 -t 1 -r 1 -d 3', label1, label2, percent)\n",
        "    ACC2 = test_results(data, '-s 0 -c 10 -t 2 -r 1 -d 3', label1, label2, percent)\n",
        "    ACC3 = test_results(data, '-s 0 -c 10 -t 3 -r 1 -d 3', label1, label2, percent)\n",
        "    xpoints = [0, 1, 2, 3]\n",
        "    ypoints = [ACC0, ACC1, ACC2, ACC3]\n",
        "    \n",
        "    plt.plot(xpoints, ypoints, linestyle='--', linewidth=5, label=i)\n",
        "\n",
        "  plt.legend(fontsize=20)\n",
        "  return plt"
      ],
      "execution_count": 22,
      "outputs": []
    },
    {
      "cell_type": "code",
      "metadata": {
        "id": "lv5qjBzocx2q"
      },
      "source": [
        "def plot_svm(data, label1, label2, percent, N):\n",
        "  fig, ax = plt.subplots()\n",
        "  fig.set_size_inches(15, 7.5)\n",
        "  plt.title(\"Test accuracy vs type of SVM\", fontsize=20)\n",
        "  plt.xlabel(\"type of SVM\")\n",
        "  plt.ylabel(\"Test accuracy\")\n",
        "  ax. xaxis. label. set_size(20)\n",
        "  ax. yaxis. label. set_size(20)\n",
        "  plt.xticks(fontsize=20)\n",
        "  plt.yticks(fontsize=20)\n",
        "  for i in range(0, N):\n",
        "    ACC0 = test_results(data, '-s 0 -c 10 -t 2 -r 1 -d 3', label1, label2, percent)\n",
        "    ACC1 = test_results(data, '-s 1 -c 10 -t 2 -r 1 -d 3', label1, label2, percent)\n",
        "    ACC2 = test_results(data, '-s 2 -c 10 -t 2 -r 1 -d 3', label1, label2, percent)\n",
        "    ACC3 = test_results(data, '-s 3 -c 10 -t 2 -r 1 -d 3', label1, label2, percent)\n",
        "    ACC4 = test_results(data, '-s 4 -c 10 -t 2 -r 1 -d 3', label1, label2, percent)\n",
        "    xpoints = [0, 1, 2, 3, 4]\n",
        "    ypoints = [ACC0, ACC1, ACC2, ACC3, ACC4]\n",
        "    \n",
        "    plt.plot(xpoints, ypoints, linestyle='--', linewidth=5, label=i)\n",
        "\n",
        "  plt.legend(fontsize=20)\n",
        "  return plt"
      ],
      "execution_count": 23,
      "outputs": []
    },
    {
      "cell_type": "code",
      "metadata": {
        "id": "14rZ9WqDfoEo"
      },
      "source": [
        "def plot_best_c(data, label1, label2, percent, N):\n",
        "  fig, ax = plt.subplots()\n",
        "  fig.set_size_inches(15, 7.5)\n",
        "  plt.title(\"Test accuracy vs cost value (c)\", fontsize=20)\n",
        "  plt.xlabel(\"c\")\n",
        "  plt.ylabel(\"Test accuracy\")\n",
        "  ax. xaxis. label. set_size(20)\n",
        "  ax. yaxis. label. set_size(20)\n",
        "  plt.xticks(fontsize=20)\n",
        "  plt.yticks(fontsize=20)\n",
        "  for i in range(0, N):\n",
        "    ACC0 = test_results(data, '-s 0 -c 0.0625 -t 2 -r 1 -d 3 -g 0.03125', label1, label2, percent)\n",
        "    ACC1 = test_results(IMAGE_DATA, '-s 0 -c 0.125 -t 2 -r 1 -d 3 -g 0.03125', label1, label2, percent)\n",
        "    ACC2 = test_results(IMAGE_DATA, '-s 0 -c 0.25 -t 2 -r 1 -d 3 -g 0.03125', label1, label2, percent)\n",
        "    ACC3 = test_results(IMAGE_DATA, '-s 0 -c 0.5 -t 2 -r 1 -d 3 -g 0.03125', label1, label2, percent)\n",
        "    ACC4 = test_results(IMAGE_DATA, '-s 0 -c 1 -t 2 -r 1 -d 3 -g 0.03125', label1, label2, percent)\n",
        "    ACC5 = test_results(IMAGE_DATA, '-s 0 -c 2 -t 2 -r 1 -d 3 -g 0.03125', label1, label2, percent)\n",
        "    ACC6 = test_results(IMAGE_DATA, '-s 0 -c 4 -t 2 -r 1 -d 3 -g 0.03125', 3, 4, 75)\n",
        "    ACC7 = test_results(IMAGE_DATA, '-s 0 -c 8 -t 2 -r 1 -d 3 -g 0.03125', 3, 4, 75)\n",
        "    ACC8 = test_results(IMAGE_DATA, '-s 0 -c 16 -t 2 -r 1 -d 3 -g 0.03125', 3, 4, 75)\n",
        "    ACC9 = test_results(IMAGE_DATA, '-s 0 -c 32 -t 2 -r 1 -d 3 -g 0.03125', 3, 4, 75)\n",
        "    xpoints = [0.0625, 0.125, 0.25, 0.5, 1, 2, 4, 8, 16, 32]\n",
        "    ypoints = [ACC0, ACC1, ACC2, ACC3, ACC4, ACC5, ACC6, ACC7, ACC8, ACC9]\n",
        "    \n",
        "    plt.plot(xpoints, ypoints, linestyle='--', linewidth=5, label=i)\n",
        "\n",
        "  plt.legend(fontsize=20)\n",
        "  return plt"
      ],
      "execution_count": 24,
      "outputs": []
    },
    {
      "cell_type": "code",
      "metadata": {
        "id": "ZEcFJsQoaQOL"
      },
      "source": [
        "\n",
        "def save_fig(function, data, label1, label2, percent, N, image_name):\n",
        "  plt = function(data, label1, label2, percent, N)\n",
        "  image_format = 'svg' # e.g .png, .svg, etc.\n",
        "  plt.savefig(image_name, format=image_format, bbox_inches='tight', dpi=1200)\n",
        "  #files.download(image_name)"
      ],
      "execution_count": 62,
      "outputs": []
    },
    {
      "cell_type": "code",
      "metadata": {
        "id": "UCJEs7alHXsw"
      },
      "source": [
        "save_fig(plot_lin, IMAGE_DATA, 0, 1, 75, 1, 'plot1.svg')\n",
        "save_fig(plot_lin, IMAGE_DATA, 2, 3, 75, 1, 'plot2.svg')\n",
        "save_fig(plot_lin, IMAGE_DATA, 4, 5, 75, 2, 'plot3.svg')"
      ],
      "execution_count": null,
      "outputs": []
    },
    {
      "cell_type": "code",
      "metadata": {
        "id": "ujsTiqDDaPQ0"
      },
      "source": [
        "save_fig(plot_poly, IMAGE_DATA, 0, 1, 75, 1, 'plot4.svg')\n",
        "save_fig(plot_poly, IMAGE_DATA, 2, 3, 75, 1, 'plot5.svg')\n",
        "save_fig(plot_poly, IMAGE_DATA, 4, 5, 75, 2, 'plot6.svg')\n",
        "save_fig(plot_poly, IMAGE_DATA, 4, 5, 75, 8, 'plot7.svg')"
      ],
      "execution_count": null,
      "outputs": []
    },
    {
      "cell_type": "code",
      "metadata": {
        "id": "EzrYZoLOcxuY"
      },
      "source": [
        "save_fig(plot_rbf, IMAGE_DATA, 0, 1, 75, 1, 'plot8.svg')\n",
        "save_fig(plot_rbf, IMAGE_DATA, 2, 3, 75, 1, 'plot9.svg')\n",
        "save_fig(plot_rbf, IMAGE_DATA, 6, 7, 75, 2, 'plot10.svg')\n",
        "save_fig(plot_rbf, IMAGE_DATA, 6, 7, 75, 4, 'plot11.svg')"
      ],
      "execution_count": null,
      "outputs": []
    },
    {
      "cell_type": "code",
      "metadata": {
        "id": "e4XFDrYrcx0k"
      },
      "source": [
        "save_fig(plot_kernel, IMAGE_DATA, 0, 1, 75, 1, 'plot12.svg')\n",
        "save_fig(plot_kernel, IMAGE_DATA, 2, 3, 75, 1, 'plot13.svg')\n",
        "save_fig(plot_kernel, IMAGE_DATA, 7, 8, 75, 2, 'plot14.svg')\n",
        "save_fig(plot_kernel, IMAGE_DATA, 7, 8, 75, 4, 'plot15.svg')"
      ],
      "execution_count": null,
      "outputs": []
    },
    {
      "cell_type": "code",
      "metadata": {
        "id": "IoE54NY6foCR"
      },
      "source": [
        "save_fig(plot_svm, IMAGE_DATA, 0, 1, 75, 1, 'plot16.svg')\n",
        "save_fig(plot_svm, IMAGE_DATA, 2, 3, 75, 1, 'plot17.svg')\n",
        "save_fig(plot_svm, IMAGE_DATA, 0, 9, 75, 2, 'plot18.svg')\n",
        "save_fig(plot_svm, IMAGE_DATA, 0, 9, 75, 4, 'plot19.svg')"
      ],
      "execution_count": null,
      "outputs": []
    },
    {
      "cell_type": "code",
      "metadata": {
        "id": "flRbUOS4foGn"
      },
      "source": [
        "save_fig(plot_best_c, IMAGE_DATA, 0, 1, 75, 1, 'plot20.svg')\n",
        "save_fig(plot_best_c, IMAGE_DATA, 2, 3, 75, 1, 'plot21.svg')\n",
        "save_fig(plot_best_c, IMAGE_DATA, 1, 8, 75, 2, 'plot22.svg')\n",
        "save_fig(plot_best_c, IMAGE_DATA, 2, 7, 75, 2, 'plot23.svg')"
      ],
      "execution_count": null,
      "outputs": []
    },
    {
      "cell_type": "markdown",
      "metadata": {
        "id": "JaH123MdeBYk"
      },
      "source": [
        "###**Conclusions for hyperparameter** (for best accuracy)\n",
        "\n",
        "Kernel Type  = Radial Basis Function<br>\n",
        "Degree in kernel function  = 3 (for POLYNOMIAL type)<br>\n",
        "Cost value = 4<br>\n",
        "Gamma Value = 0.032 (for RBF)<br>\n",
        "SVM type = 0 (C-SVC)"
      ]
    },
    {
      "cell_type": "code",
      "metadata": {
        "colab": {
          "base_uri": "https://localhost:8080/"
        },
        "id": "m6f75--jp09n",
        "outputId": "bb498a50-ee41-42c6-c355-4c56169d029b"
      },
      "source": [
        "test_results(IMAGE_DATA, '-s 0 -c 4 -t 2 -r 1 -d 3 -g 0.032', 0, 1, 75)"
      ],
      "execution_count": 34,
      "outputs": [
        {
          "output_type": "stream",
          "name": "stdout",
          "text": [
            "Accuracy = 99.359% (155/156) (classification)\n"
          ]
        },
        {
          "output_type": "execute_result",
          "data": {
            "text/plain": [
              "99.35897435897436"
            ]
          },
          "metadata": {},
          "execution_count": 34
        }
      ]
    },
    {
      "cell_type": "markdown",
      "metadata": {
        "id": "BwvILO-Or6AK"
      },
      "source": [
        "### **Consideration of 10 features**"
      ]
    },
    {
      "cell_type": "code",
      "metadata": {
        "id": "pSW7XzHjsHKX"
      },
      "source": [
        "img_data1 = IMAGE_DATA.drop(['F11', 'F12', 'F13', 'F14', 'F15', 'F16', 'F17', 'F18', 'F19', 'F20', 'F21', 'F22', 'F23', 'F24', 'F25'], axis = 1)\n",
        "img_data1"
      ],
      "execution_count": null,
      "outputs": []
    },
    {
      "cell_type": "code",
      "metadata": {
        "id": "Lqd9wXlhsHMu"
      },
      "source": [
        "save_fig(plot_lin, img_data1, 0, 1, 75, 1, 'plot24.svg')\n",
        "save_fig(plot_poly, img_data1, 0, 1, 75, 1, 'plot25.svg')\n",
        "save_fig(plot_rbf, img_data1, 0, 1, 75, 1, 'plot26.svg')\n",
        "save_fig(plot_kernel, img_data1, 0, 1, 75, 1, 'plot27.svg')\n",
        "save_fig(plot_svm, img_data1, 0, 1, 75, 1, 'plot28.svg')\n",
        "save_fig(plot_best_c, img_data1, 0, 1, 75, 1, 'plot29.svg')"
      ],
      "execution_count": null,
      "outputs": []
    },
    {
      "cell_type": "code",
      "metadata": {
        "id": "utSjNhJgtkj2"
      },
      "source": [
        "save_fig(plot_lin, img_data1, 2, 3, 75, 1, 'plot30.svg')\n",
        "save_fig(plot_poly, img_data1, 2, 3, 75, 1, 'plot31.svg')\n",
        "save_fig(plot_rbf, img_data1, 2, 3, 75, 1, 'plot32.svg')\n",
        "save_fig(plot_kernel, img_data1, 2, 3, 75, 1, 'plot33.svg')\n",
        "save_fig(plot_svm, img_data1, 2, 3, 75, 1, 'plot34.svg')\n",
        "save_fig(plot_best_c, img_data1, 2, 3, 75, 1, 'plot35.svg')"
      ],
      "execution_count": null,
      "outputs": []
    },
    {
      "cell_type": "code",
      "metadata": {
        "id": "LmLP5RxKsHOy"
      },
      "source": [
        "img_data2 = IMAGE_DATA.drop(['F1', 'F2', 'F3', 'F4', 'F5', 'F6', 'F7', 'F8', 'F9', 'F10', 'F21', 'F22', 'F23', 'F24', 'F25'], axis = 1)\n",
        "img_data2"
      ],
      "execution_count": null,
      "outputs": []
    },
    {
      "cell_type": "code",
      "metadata": {
        "id": "QQoeTZK3sHQ4"
      },
      "source": [
        "save_fig(plot_lin, img_data2, 0, 1, 75, 1, 'plot36.svg')\n",
        "save_fig(plot_poly, img_data2, 0, 1, 75, 1, 'plot37.svg')\n",
        "save_fig(plot_rbf, img_data2, 0, 1, 75, 1, 'plot38.svg')\n",
        "save_fig(plot_kernel, img_data2, 0, 1, 75, 1, 'plot39.svg')\n",
        "save_fig(plot_svm, img_data2, 0, 1, 75, 1, 'plot40.svg')\n",
        "save_fig(plot_best_c, img_data2, 0, 1, 75, 1, 'plot41.svg')"
      ],
      "execution_count": null,
      "outputs": []
    },
    {
      "cell_type": "code",
      "metadata": {
        "id": "chF06PZzsHUU"
      },
      "source": [
        "save_fig(plot_lin, img_data2, 2, 3, 75, 1, 'plot42.svg')\n",
        "save_fig(plot_poly, img_data2, 2, 3, 75, 1, 'plot43.svg')\n",
        "save_fig(plot_rbf, img_data2, 2, 3, 75, 1, 'plot44.svg')\n",
        "save_fig(plot_kernel, img_data2, 2, 3, 75, 1, 'plot45.svg')\n",
        "save_fig(plot_svm, img_data2, 2, 3, 75, 1, 'plot46.svg')\n",
        "save_fig(plot_best_c, img_data2, 2, 3, 75, 1, 'plot47.svg')"
      ],
      "execution_count": null,
      "outputs": []
    },
    {
      "cell_type": "markdown",
      "metadata": {
        "id": "h46Mia5Q0C6h"
      },
      "source": [
        "###**Sci-kit learn Binary Classification**"
      ]
    },
    {
      "cell_type": "code",
      "metadata": {
        "id": "B9VcwqdbKUi-"
      },
      "source": [
        "from sklearn.svm import SVC\n",
        "from sklearn.svm import LinearSVC\n",
        "from sklearn.metrics import classification_report\n",
        "from sklearn.metrics import accuracy_score"
      ],
      "execution_count": 4,
      "outputs": []
    },
    {
      "cell_type": "code",
      "metadata": {
        "id": "SLD1brxs0JkR"
      },
      "source": [
        "def test_sklearn(kt = 'rbf', c_value = 4, gamma_value = 0.032, deg_value = 3, data = IMAGE_DATA, label1 = 0, label2 = 1, percent_train = 75):\n",
        "  t1, t2, t3, t4 = partition(data, percent_train)\n",
        "  classifier = SVC(kernel = kt, C = c_value, gamma = gamma_value, degree = deg_value, decision_function_shape = 'ovr', )\n",
        "  classifier.fit(t1, t3)\n",
        "  Y_pred = classifier.predict(t2)\n",
        "  #print(classification_report(t4, Y_pred))\n",
        "  return accuracy_score(t4, Y_pred)"
      ],
      "execution_count": 10,
      "outputs": []
    },
    {
      "cell_type": "code",
      "metadata": {
        "id": "1eSox6GJ0Jmw",
        "colab": {
          "base_uri": "https://localhost:8080/"
        },
        "outputId": "f195f441-2c2b-4ed7-a3a2-20262d911b08"
      },
      "source": [
        "test_sklearn('linear', 4, 0.032, 3, IMAGE_DATA, 0, 1, 75)"
      ],
      "execution_count": 11,
      "outputs": [
        {
          "output_type": "execute_result",
          "data": {
            "text/plain": [
              "0.8786666666666667"
            ]
          },
          "metadata": {},
          "execution_count": 11
        }
      ]
    },
    {
      "cell_type": "markdown",
      "metadata": {
        "id": "zUd5tv3dT3wB"
      },
      "source": [
        "### **Hyperparameter tuning for Sci-kit learn**"
      ]
    },
    {
      "cell_type": "code",
      "metadata": {
        "id": "yQZGSrozAZzR"
      },
      "source": [
        "def plot_polynomial(data, label1, label2, percent, N):\n",
        "  fig, ax = plt.subplots()\n",
        "  fig.set_size_inches(15, 7.5)\n",
        "  plt.title(\"Test accuracy vs degree in kernel function (kernel type = POLYNOMIAL)\", fontsize=20)\n",
        "  plt.xlabel(\"degree\")\n",
        "  plt.ylabel(\"Test accuracy\")\n",
        "  ax. xaxis. label. set_size(20)\n",
        "  ax. yaxis. label. set_size(20)\n",
        "  plt.xticks(fontsize=20)\n",
        "  plt.yticks(fontsize=20)\n",
        "  for i in range(0, N):\n",
        "    ACC0 = test_sklearn('poly', 4, 0.032, 0, data, label1, label2, percent)\n",
        "    ACC1 = test_sklearn('poly', 4, 0.032, 1, data, label1, label2, percent)\n",
        "    ACC2 = test_sklearn('poly', 4, 0.032, 2, data, label1, label2, percent)\n",
        "    ACC3 = test_sklearn('poly', 4, 0.032, 3, data, label1, label2, percent)\n",
        "    ACC4 = test_sklearn('poly', 4, 0.032, 4, data, label1, label2, percent)\n",
        "    ACC5 = test_sklearn('poly', 4, 0.032, 5, data, label1, label2, percent)\n",
        "    ACC6 = test_sklearn('poly', 4, 0.032, 6, data, label1, label2, percent)\n",
        "    ACC7 = test_sklearn('poly', 4, 0.032, 7, data, label1, label2, percent)\n",
        "    ACC8 = test_sklearn('poly', 4, 0.032, 8, data, label1, label2, percent)\n",
        "    ACC9 = test_sklearn('poly', 4, 0.032, 9, data, label1, label2, percent)\n",
        "    xpoints = [0, 1, 2, 3, 4, 5, 6, 7, 8, 9]\n",
        "    ypoints = [ACC0, ACC1, ACC2, ACC3, ACC4, ACC5, ACC6, ACC7, ACC8, ACC9]\n",
        "    \n",
        "    plt.plot(xpoints, ypoints, linestyle='--', linewidth=5, label=i)\n",
        "\n",
        "  plt.legend(fontsize=20)\n",
        "  return plt"
      ],
      "execution_count": 13,
      "outputs": []
    },
    {
      "cell_type": "code",
      "metadata": {
        "id": "uVeYifMWUG_N"
      },
      "source": [
        "def plot_rbfs(data, label1, label2, percent, N):\n",
        "  fig, ax = plt.subplots()\n",
        "  fig.set_size_inches(15, 7.5)\n",
        "  plt.title(\"Test accuracy vs gamma\", fontsize=20)\n",
        "  plt.xlabel(\"gamma\")\n",
        "  plt.ylabel(\"Test accuracy\")\n",
        "  ax. xaxis. label. set_size(20)\n",
        "  ax. yaxis. label. set_size(20)\n",
        "  plt.xticks(fontsize=20)\n",
        "  plt.yticks(fontsize=20)\n",
        "  for i in range(0, N):\n",
        "    ACC0 = test_sklearn('rbf', 4, 0.016, 3, data, label1, label2, percent)\n",
        "    ACC1 = test_sklearn('rbf', 4, 0.03125, 3, data, label1, label2, percent)\n",
        "    ACC2 = test_sklearn('rbf', 4, 0.0625, 3, data, label1, label2, percent)\n",
        "    ACC3 = test_sklearn('rbf', 4, 0.125, 3, data, label1, label2, percent)\n",
        "    ACC4 = test_sklearn('rbf', 4, 0.25, 3, data, label1, label2, percent)\n",
        "    ACC5 = test_sklearn('rbf', 4, 0.5, 3, data, label1, label2, percent)\n",
        "    ACC6 = test_sklearn('rbf', 4, 1, 3, data, label1, label2, percent)\n",
        "    ACC7 = test_sklearn('rbf', 4, 2, 3, data, label1, label2, percent)\n",
        "    ACC8 = test_sklearn('rbf', 4, 4, 3, data, label1, label2, percent)\n",
        "    ACC9 = test_sklearn('rbf', 4, 8, 3, data, label1, label2, percent)\n",
        "    xpoints = [0.016, 0.03125, 0.0625, 0.125, 0.25, 0.5, 1, 2, 4, 8]\n",
        "    ypoints = [ACC0, ACC1, ACC2, ACC3, ACC4, ACC5, ACC6, ACC7, ACC8, ACC9]\n",
        "    \n",
        "    plt.plot(xpoints, ypoints, linestyle='--', linewidth=5, label=i)\n",
        "\n",
        "  plt.legend(fontsize=20)\n",
        "  return plt"
      ],
      "execution_count": 14,
      "outputs": []
    },
    {
      "cell_type": "code",
      "metadata": {
        "id": "g5c5KPq0AZwK"
      },
      "source": [
        "def plot_kt(data, label1, label2, percent, N):\n",
        "  fig, ax = plt.subplots()\n",
        "  fig.set_size_inches(15, 7.5)\n",
        "  plt.title(\"Test accuracy vs kernel type\", fontsize=20)\n",
        "  plt.xlabel(\"Kernel type\")\n",
        "  plt.ylabel(\"Test accuracy\")\n",
        "  ax. xaxis. label. set_size(20)\n",
        "  ax. yaxis. label. set_size(20)\n",
        "  plt.xticks(fontsize=20)\n",
        "  plt.yticks(fontsize=20)\n",
        "  for i in range(0, N):\n",
        "    ACC0 = test_sklearn('linear', 4, 0.032, 3, data, label1, label2, percent)\n",
        "    ACC1 = test_sklearn('poly', 4, 0.032, 3, data, label1, label2, percent)\n",
        "    ACC2 = test_sklearn('rbf', 4, 0.032, 3, data, label1, label2, percent)\n",
        "    ACC3 = test_sklearn('sigmoid', 4, 0.032, 3, data, label1, label2, percent)\n",
        "    xpoints = [0, 1, 2, 3]\n",
        "    ypoints = [ACC0, ACC1, ACC2, ACC3]\n",
        "    \n",
        "    plt.plot(xpoints, ypoints, linestyle='--', linewidth=5, label=i)\n",
        "\n",
        "  plt.legend(fontsize=20)\n",
        "  return plt"
      ],
      "execution_count": 15,
      "outputs": []
    },
    {
      "cell_type": "code",
      "metadata": {
        "id": "35qv55opVP5w"
      },
      "source": [
        "def plot_c(data, label1, label2, percent, N):\n",
        "  fig, ax = plt.subplots()\n",
        "  fig.set_size_inches(15, 7.5)\n",
        "  plt.title(\"Test accuracy vs cost value (c)\", fontsize=20)\n",
        "  plt.xlabel(\"c\")\n",
        "  plt.ylabel(\"Test accuracy\")\n",
        "  ax. xaxis. label. set_size(20)\n",
        "  ax. yaxis. label. set_size(20)\n",
        "  plt.xticks(fontsize=20)\n",
        "  plt.yticks(fontsize=20)\n",
        "  for i in range(0, N):\n",
        "    ACC0 = test_sklearn('rbf', 0.25, 0.03125, 3, data, label1, label2, percent)\n",
        "    ACC1 = test_sklearn('rbf', 0.5, 0.03125, 3, data, label1, label2, percent)\n",
        "    ACC2 = test_sklearn('rbf', 1, 0.03125, 3, data, label1, label2, percent)\n",
        "    ACC3 = test_sklearn('rbf', 2, 0.03125, 3, data, label1, label2, percent)\n",
        "    ACC4 = test_sklearn('rbf', 4, 0.03125, 3, data, label1, label2, percent)\n",
        "    ACC5 = test_sklearn('rbf', 8, 0.03125, 3, data, label1, label2, percent)\n",
        "    ACC6 = test_sklearn('rbf', 16, 0.03125, 3, data, label1, label2, percent)\n",
        "    ACC7 = test_sklearn('rbf', 32, 0.03125, 3, data, label1, label2, percent)\n",
        "    ACC8 = test_sklearn('rbf', 64, 0.03125, 3, data, label1, label2, percent)\n",
        "    ACC9 = test_sklearn('rbf', 128, 0.03125, 3, data, label1, label2, percent)\n",
        "    xpoints = [0.25, 0.5, 1, 2, 4, 8, 16, 32, 64, 128]\n",
        "    ypoints = [ACC0, ACC1, ACC2, ACC3, ACC4, ACC5, ACC6, ACC7, ACC8, ACC9]\n",
        "    \n",
        "    plt.plot(xpoints, ypoints, linestyle='--', linewidth=5, label=i)\n",
        "\n",
        "  plt.legend(fontsize=20)\n",
        "  return plt"
      ],
      "execution_count": 16,
      "outputs": []
    },
    {
      "cell_type": "code",
      "metadata": {
        "id": "QkgHanwbWaaX"
      },
      "source": [
        "save_fig(plot_polynomial, IMAGE_DATA, 0, 1, 75, 1, 'plot48.svg')\n",
        "save_fig(plot_rbfs, IMAGE_DATA, 0, 1, 75, 1, 'plot49.svg')\n",
        "save_fig(plot_kt, IMAGE_DATA, 0, 1, 75, 1, 'plot50.svg')\n",
        "save_fig(plot_c, IMAGE_DATA, 0, 1, 75, 1, 'plot51.svg')"
      ],
      "execution_count": null,
      "outputs": []
    },
    {
      "cell_type": "code",
      "metadata": {
        "id": "7vh65X8OYHP3"
      },
      "source": [
        "save_fig(plot_polynomial, IMAGE_DATA, 2, 3, 75, 1, 'plot52.svg')\n",
        "save_fig(plot_rbfs, IMAGE_DATA, 2, 3, 75, 1, 'plot53.svg')\n",
        "save_fig(plot_kt, IMAGE_DATA, 2, 3, 75, 1, 'plot54.svg')\n",
        "save_fig(plot_c, IMAGE_DATA, 2, 3, 75, 1, 'plot55.svg')"
      ],
      "execution_count": null,
      "outputs": []
    },
    {
      "cell_type": "markdown",
      "metadata": {
        "id": "_NrP_-qe03iM"
      },
      "source": [
        "###**Conclusions for hyperparameter**\n",
        "\n",
        "Kernel Type  = Radial Basis Function<br>\n",
        "Degree in kernel function  = 3 (for POLYNOMIAL type)<br>\n",
        "Cost value = 4<br>\n",
        "Gamma Value = 0.032 (for RBF)<br>\n"
      ]
    },
    {
      "cell_type": "markdown",
      "metadata": {
        "id": "HgvAz8-lY-9I"
      },
      "source": [
        "### **Consideration of 10 features**"
      ]
    },
    {
      "cell_type": "code",
      "metadata": {
        "id": "c0WZUzmgYHSb"
      },
      "source": [
        "img_data1 = IMAGE_DATA.drop(['F11', 'F12', 'F13', 'F14', 'F15', 'F16', 'F17', 'F18', 'F19', 'F20', 'F21', 'F22', 'F23', 'F24', 'F25'], axis = 1)\n",
        "img_data1"
      ],
      "execution_count": null,
      "outputs": []
    },
    {
      "cell_type": "code",
      "metadata": {
        "id": "aCAwut8nYHUR"
      },
      "source": [
        "save_fig(plot_polynomial, img_data1, 0, 1, 75, 1, 'plot56.svg')\n",
        "save_fig(plot_rbfs, img_data1, 0, 1, 75, 1, 'plot57.svg')\n",
        "save_fig(plot_kt, img_data1, 0, 1, 75, 1, 'plot58.svg')\n",
        "save_fig(plot_c, img_data1, 0, 1, 75, 1, 'plot59.svg')"
      ],
      "execution_count": null,
      "outputs": []
    },
    {
      "cell_type": "code",
      "metadata": {
        "id": "P7OGXxxrYHWE"
      },
      "source": [
        "save_fig(plot_polynomial, img_data1, 2, 3, 75, 1, 'plot60.svg')\n",
        "save_fig(plot_rbfs, img_data1, 2, 3, 75, 1, 'plot61.svg')\n",
        "save_fig(plot_kt, img_data1, 2, 3, 75, 1, 'plot62.svg')\n",
        "save_fig(plot_c, img_data1, 2, 3, 75, 1, 'plot63.svg')"
      ],
      "execution_count": null,
      "outputs": []
    },
    {
      "cell_type": "code",
      "metadata": {
        "id": "Z0Ll7EwIYHXf"
      },
      "source": [
        "img_data2 = IMAGE_DATA.drop(['F1', 'F2', 'F3', 'F4', 'F5', 'F6', 'F7', 'F8', 'F9', 'F10', 'F21', 'F22', 'F23', 'F24', 'F25'], axis = 1)\n",
        "img_data2"
      ],
      "execution_count": null,
      "outputs": []
    },
    {
      "cell_type": "code",
      "metadata": {
        "id": "9orR1QjaZIWd"
      },
      "source": [
        "save_fig(plot_polynomial, img_data2, 0, 1, 75, 1, 'plot64.svg')\n",
        "save_fig(plot_rbfs, img_data2, 0, 1, 75, 1, 'plot65.svg')\n",
        "save_fig(plot_kt, img_data2, 0, 1, 75, 1, 'plot66.svg')\n",
        "save_fig(plot_c, img_data2, 0, 1, 75, 1, 'plot67.svg')"
      ],
      "execution_count": null,
      "outputs": []
    },
    {
      "cell_type": "code",
      "metadata": {
        "id": "JMfP0mdrZIYc"
      },
      "source": [
        "save_fig(plot_polynomial, img_data2, 2, 3, 75, 1, 'plot68.svg')\n",
        "save_fig(plot_rbfs, img_data2, 2, 3, 75, 1, 'plot69.svg')\n",
        "save_fig(plot_kt, img_data2, 2, 3, 75, 1, 'plot70.svg')\n",
        "save_fig(plot_c, img_data2, 2, 3, 75, 1, 'plot71.svg')"
      ],
      "execution_count": null,
      "outputs": []
    },
    {
      "cell_type": "markdown",
      "metadata": {
        "id": "LfD7StRQaNLQ"
      },
      "source": [
        "### **LIBSVM Multiclass classification**"
      ]
    },
    {
      "cell_type": "code",
      "metadata": {
        "id": "s48z3uAzdLd5"
      },
      "source": [
        "def test_result(data, parameter_string = None, percent_train = 80):\n",
        "  t1, t2, t3, t4 = partition(data, percent_train)\n",
        "  prob = svm_problem(t3,t1)\n",
        "  param = svm_parameter(parameter_string)\n",
        "  model = svm_train(prob, param)\n",
        "  p_label, p_acc, p_val = svm_predict(t4, t2, model)\n",
        "  ACC, MSE, SCC = evaluations(t4, p_label)\n",
        "  return ACC"
      ],
      "execution_count": 25,
      "outputs": []
    },
    {
      "cell_type": "code",
      "metadata": {
        "id": "1c7fq8owdLrb"
      },
      "source": [
        "def plot_polydeg(data, percent, N):\n",
        "  fig, ax = plt.subplots()\n",
        "  fig.set_size_inches(15, 7.5)\n",
        "  plt.title(\"Test accuracy vs degree in kernel function (kernel type = POLYNOMIAL)\", fontsize=20)\n",
        "  plt.xlabel(\"degree\")\n",
        "  plt.ylabel(\"Test accuracy\")\n",
        "  ax. xaxis. label. set_size(20)\n",
        "  ax. yaxis. label. set_size(20)\n",
        "  plt.xticks(fontsize=20)\n",
        "  plt.yticks(fontsize=20)\n",
        "  for i in range(0, N):\n",
        "    ACC0 = test_result(data, '-s 0 -c 10 -t 1 -r 1 -d 0', percent)\n",
        "    ACC1 = test_result(data, '-s 0 -c 10 -t 1 -r 1 -d 1', percent)\n",
        "    ACC2 = test_result(data, '-s 0 -c 10 -t 1 -r 1 -d 2', percent)\n",
        "    ACC3 = test_result(data, '-s 0 -c 10 -t 1 -r 1 -d 3', percent)\n",
        "    ACC4 = test_result(data, '-s 0 -c 10 -t 1 -r 1 -d 4', percent)\n",
        "    ACC5 = test_result(data, '-s 0 -c 10 -t 1 -r 1 -d 5', percent)\n",
        "    ACC6 = test_result(data, '-s 0 -c 10 -t 1 -r 1 -d 6', percent)\n",
        "    ACC7 = test_result(data, '-s 0 -c 10 -t 1 -r 1 -d 7', percent)\n",
        "    ACC8 = test_result(data, '-s 0 -c 10 -t 1 -r 1 -d 8', percent)\n",
        "    ACC9 = test_result(data, '-s 0 -c 10 -t 1 -r 1 -d 9', percent)\n",
        "    \n",
        "    xpoints = [0, 1, 2, 3, 4, 5, 6, 7, 8, 9]\n",
        "    ypoints = [ACC0, ACC1, ACC2, ACC3, ACC4, ACC5, ACC6, ACC7, ACC8, ACC9]\n",
        "    \n",
        "    plt.plot(xpoints, ypoints, linestyle='--', linewidth=5, label=i)\n",
        "\n",
        "  plt.legend(fontsize=20)\n",
        "  return plt"
      ],
      "execution_count": 26,
      "outputs": []
    },
    {
      "cell_type": "code",
      "metadata": {
        "id": "S_G_ZpcVdLt2"
      },
      "source": [
        "def plot_polygamma(data, percent, N):\n",
        "  fig, ax = plt.subplots()\n",
        "  fig.set_size_inches(15, 7.5)\n",
        "  plt.title(\"Test accuracy vs gamma (kernel type = POLYNOMIAL)\", fontsize=20)\n",
        "  plt.xlabel(\"gamma\")\n",
        "  plt.ylabel(\"Test accuracy\")\n",
        "  ax. xaxis. label. set_size(20)\n",
        "  ax. yaxis. label. set_size(20)\n",
        "  plt.xticks(fontsize=20)\n",
        "  plt.yticks(fontsize=20)\n",
        "  for i in range(0, N):\n",
        "    ACC0 = test_result(data, '-s 0 -c 10 -t 1 -r 1 -d 3 -g 0.016', percent)\n",
        "    ACC1 = test_result(data, '-s 0 -c 10 -t 1 -r 1 -d 3 -g 0.03125', percent)\n",
        "    ACC2 = test_result(data, '-s 0 -c 10 -t 1 -r 1 -d 3 -g 0.0625', percent)\n",
        "    ACC3 = test_result(data, '-s 0 -c 10 -t 1 -r 1 -d 3 -g 0.125', percent)\n",
        "    ACC4 = test_result(data, '-s 0 -c 10 -t 1 -r 1 -d 3 -g 0.25', percent)\n",
        "    ACC5 = test_result(data, '-s 0 -c 10 -t 1 -r 1 -d 3 -g 0.5', percent)\n",
        "    ACC6 = test_result(data, '-s 0 -c 10 -t 1 -r 1 -d 3 -g 1', percent)\n",
        "    ACC7 = test_result(data, '-s 0 -c 10 -t 1 -r 1 -d 3 -g 2', percent)\n",
        "    ACC8 = test_result(data, '-s 0 -c 10 -t 1 -r 1 -d 3 -g 4', percent)\n",
        "    ACC9 = test_result(data, '-s 0 -c 10 -t 1 -r 1 -d 3 -g 8', percent)\n",
        "    \n",
        "    xpoints = [0.016, 0.03125, 0.0625, 0.125, 0.25, 0.5, 1, 2, 4, 8]\n",
        "    ypoints = [ACC0, ACC1, ACC2, ACC3, ACC4, ACC5, ACC6, ACC7, ACC8, ACC9]\n",
        "    \n",
        "    plt.plot(xpoints, ypoints, linestyle='--', linewidth=5, label=i)\n",
        "\n",
        "  plt.legend(fontsize=20)\n",
        "  return plt"
      ],
      "execution_count": 27,
      "outputs": []
    },
    {
      "cell_type": "code",
      "metadata": {
        "id": "vG1zhv9IhAsV"
      },
      "source": [
        "def plot_rbfgamma(data, percent, N):\n",
        "  fig, ax = plt.subplots()\n",
        "  fig.set_size_inches(15, 7.5)\n",
        "  plt.title(\"Test accuracy vs gamma (kernel type = RBF)\", fontsize=20)\n",
        "  plt.xlabel(\"gamma\")\n",
        "  plt.ylabel(\"Test accuracy\")\n",
        "  ax. xaxis. label. set_size(20)\n",
        "  ax. yaxis. label. set_size(20)\n",
        "  plt.xticks(fontsize=20)\n",
        "  plt.yticks(fontsize=20)\n",
        "  for i in range(0, N):\n",
        "    ACC0 = test_result(data, '-s 0 -c 10 -t 2 -r 1 -d 3 -g 0.016', percent)\n",
        "    ACC1 = test_result(data, '-s 0 -c 10 -t 2 -r 1 -d 3 -g 0.03125', percent)\n",
        "    ACC2 = test_result(data, '-s 0 -c 10 -t 2 -r 1 -d 3 -g 0.0625', percent)\n",
        "    ACC3 = test_result(data, '-s 0 -c 10 -t 2 -r 1 -d 3 -g 0.125', percent)\n",
        "    ACC4 = test_result(data, '-s 0 -c 10 -t 2 -r 1 -d 3 -g 0.25', percent)\n",
        "    ACC5 = test_result(data, '-s 0 -c 10 -t 2 -r 1 -d 3 -g 0.5', percent)\n",
        "    ACC6 = test_result(data, '-s 0 -c 10 -t 2 -r 1 -d 3 -g 1', percent)\n",
        "    ACC7 = test_result(data, '-s 0 -c 10 -t 2 -r 1 -d 3 -g 2', percent)\n",
        "    ACC8 = test_result(data, '-s 0 -c 10 -t 2 -r 1 -d 3 -g 4', percent)\n",
        "    ACC9 = test_result(data, '-s 0 -c 10 -t 2 -r 1 -d 3 -g 8', percent)\n",
        "    \n",
        "    xpoints = [0.016, 0.03125, 0.0625, 0.125, 0.25, 0.5, 1, 2, 4, 8]\n",
        "    ypoints = [ACC0, ACC1, ACC2, ACC3, ACC4, ACC5, ACC6, ACC7, ACC8, ACC9]\n",
        "    \n",
        "    plt.plot(xpoints, ypoints, linestyle='--', linewidth=5, label=i)\n",
        "\n",
        "  plt.legend(fontsize=20)\n",
        "  return plt"
      ],
      "execution_count": 28,
      "outputs": []
    },
    {
      "cell_type": "code",
      "metadata": {
        "id": "m4mb9ZeGhAui"
      },
      "source": [
        "def plot_ktype(data, percent, N):\n",
        "  fig, ax = plt.subplots()\n",
        "  fig.set_size_inches(15, 7.5)\n",
        "  plt.title(\"Test accuracy vs kernel type\", fontsize=20)\n",
        "  plt.xlabel(\"kernel type\")\n",
        "  plt.ylabel(\"Test accuracy\")\n",
        "  ax. xaxis. label. set_size(20)\n",
        "  ax. yaxis. label. set_size(20)\n",
        "  plt.xticks(fontsize=20)\n",
        "  plt.yticks(fontsize=20)\n",
        "  for i in range(0, N):\n",
        "    ACC0 = test_result(data, '-s 0 -c 10 -t 0 -r 1 -d 3 -g 0.03125', percent)\n",
        "    ACC1 = test_result(data, '-s 0 -c 10 -t 1 -r 1 -d 3 -g 0.03125', percent)\n",
        "    ACC2 = test_result(data, '-s 0 -c 10 -t 2 -r 1 -d 3 -g 0.03125', percent)\n",
        "    ACC3 = test_result(data, '-s 0 -c 10 -t 3 -r 1 -d 3 -g 0.03125', percent)\n",
        "    \n",
        "    xpoints = [0, 1, 2, 3]\n",
        "    ypoints = [ACC0, ACC1, ACC2, ACC3]\n",
        "    \n",
        "    plt.plot(xpoints, ypoints, linestyle='--', linewidth=5, label=i)\n",
        "\n",
        "  plt.legend(fontsize=20)\n",
        "  return plt"
      ],
      "execution_count": 29,
      "outputs": []
    },
    {
      "cell_type": "code",
      "metadata": {
        "id": "7vj09NQpqUF0"
      },
      "source": [
        "def plot_cval(data, percent, N):\n",
        "  fig, ax = plt.subplots()\n",
        "  fig.set_size_inches(15, 7.5)\n",
        "  plt.title(\"Test accuracy vs cost value (c)\", fontsize=20)\n",
        "  plt.xlabel(\"c\")\n",
        "  plt.ylabel(\"Test accuracy\")\n",
        "  ax. xaxis. label. set_size(20)\n",
        "  ax. yaxis. label. set_size(20)\n",
        "  plt.xticks(fontsize=20)\n",
        "  plt.yticks(fontsize=20)\n",
        "  for i in range(0, N):\n",
        "    ACC0 = test_result(data, '-s 0 -c 0.25 -t 2 -r 1 -d 3 -g 0.03125', percent)\n",
        "    ACC1 = test_result(data, '-s 0 -c 0.5 -t 2 -r 1 -d 3 -g 0.03125', percent)\n",
        "    ACC2 = test_result(data, '-s 0 -c 1 -t 2 -r 1 -d 3 -g 0.03125', percent)\n",
        "    ACC3 = test_result(data, '-s 0 -c 2 -t 2 -r 1 -d 3 -g 0.03125', percent)\n",
        "    ACC4 = test_result(data, '-s 0 -c 4 -t 2 -r 1 -d 3 -g 0.03125', percent)\n",
        "    ACC5 = test_result(data, '-s 0 -c 8 -t 2 -r 1 -d 3 -g 0.03125', percent)\n",
        "    ACC6 = test_result(data, '-s 0 -c 16 -t 2 -r 1 -d 3 -g 0.03125', percent)\n",
        "    ACC7 = test_result(data, '-s 0 -c 32 -t 2 -r 1 -d 3 -g 0.03125', percent)\n",
        "    ACC8 = test_result(data, '-s 0 -c 64 -t 2 -r 1 -d 3 -g 0.03125', percent)\n",
        "    ACC9 = test_result(data, '-s 0 -c 128 -t 2 -r 1 -d 3 -g 0.03125', percent)\n",
        "    \n",
        "    xpoints = [0.25, 0.5, 1, 2, 4, 8, 16, 32, 64, 128]\n",
        "    ypoints = [ACC0, ACC1, ACC2, ACC3, ACC4, ACC5, ACC6, ACC7, ACC8, ACC9]\n",
        "    \n",
        "    plt.plot(xpoints, ypoints, linestyle='--', linewidth=5, label=i)\n",
        "\n",
        "  plt.legend(fontsize=20)\n",
        "  return plt"
      ],
      "execution_count": 30,
      "outputs": []
    },
    {
      "cell_type": "code",
      "metadata": {
        "id": "oemiH9VwryRG"
      },
      "source": [
        "def save_plots(function, data, percent, N, image_name):\n",
        "  plt = function(data, percent, N)\n",
        "  image_format = 'svg' # e.g .png, .svg, etc.\n",
        "  plt.savefig(image_name, format=image_format, bbox_inches='tight', dpi=1200)\n",
        "  #files.download(image_name)\n"
      ],
      "execution_count": 46,
      "outputs": []
    },
    {
      "cell_type": "code",
      "metadata": {
        "id": "_nftgPZ8rZ9K"
      },
      "source": [
        "save_plots(plot_polydeg, IMAGE_DATA, 75, 1, 'plot1.svg')\n",
        "save_plots(plot_polydeg, IMAGE_DATA, 75, 2, 'plot2.svg')\n",
        "save_plots(plot_polydeg, IMAGE_DATA, 75, 8, 'plot3.svg')"
      ],
      "execution_count": null,
      "outputs": []
    },
    {
      "cell_type": "code",
      "metadata": {
        "id": "K8CBjYunrg8s"
      },
      "source": [
        "save_plots(plot_polygamma, IMAGE_DATA, 75, 1, 'plot4.svg')\n",
        "save_plots(plot_polygamma, IMAGE_DATA, 75, 2, 'plot5.svg')"
      ],
      "execution_count": null,
      "outputs": []
    },
    {
      "cell_type": "code",
      "metadata": {
        "id": "zJkv-S3SsgrU"
      },
      "source": [
        "save_plots(plot_rbfgamma, IMAGE_DATA, 75, 1, 'plot6.svg')\n",
        "save_plots(plot_rbfgamma, IMAGE_DATA, 75, 2, 'plot7.svg')\n",
        "save_plots(plot_rbfgamma, IMAGE_DATA, 75, 8, 'plot8.svg')"
      ],
      "execution_count": null,
      "outputs": []
    },
    {
      "cell_type": "code",
      "metadata": {
        "id": "LNZluPUitHgL"
      },
      "source": [
        "save_plots(plot_ktype, IMAGE_DATA, 75, 1, 'plot9.svg')\n",
        "save_plots(plot_ktype, IMAGE_DATA, 75, 2, 'plot10.svg')\n",
        "save_plots(plot_ktype, IMAGE_DATA, 75, 8, 'plot11.svg')"
      ],
      "execution_count": null,
      "outputs": []
    },
    {
      "cell_type": "code",
      "metadata": {
        "id": "1f6U5-WltHjm"
      },
      "source": [
        "save_plots(plot_cval, IMAGE_DATA, 75, 1, 'plot12.svg')\n",
        "save_plots(plot_cval, IMAGE_DATA, 75, 2, 'plot13.svg')\n",
        "save_plots(plot_cval, IMAGE_DATA, 75, 8, 'plot14.svg')"
      ],
      "execution_count": null,
      "outputs": []
    },
    {
      "cell_type": "markdown",
      "metadata": {
        "id": "tx61MZDQc5eU"
      },
      "source": [
        "###**Conclusions for hyperparameter**\n",
        "\n",
        "<center>-s 0 -c 4 -t 2 -r 1 -d 4 -g 0.032</center>\n",
        "1)\tKernel Type = Radial Basis Function<br>\n",
        "2)\tDegree in kernel function = 4, Gamma value = 0.5 (for POLYNOMIAL type)<br>\n",
        "3)\tCost value = 4<br>\n",
        "4)\tGamma Value = 0.032 (for RBF) <br>\n"
      ]
    },
    {
      "cell_type": "markdown",
      "metadata": {
        "id": "7b7vSVnchLTO"
      },
      "source": [
        "### **Consideration of 10 features**"
      ]
    },
    {
      "cell_type": "code",
      "metadata": {
        "id": "mlnH4ilLhKV9"
      },
      "source": [
        "img_data1 = IMAGE_DATA.drop(['F11', 'F12', 'F13', 'F14', 'F15', 'F16', 'F17', 'F18', 'F19', 'F20', 'F21', 'F22', 'F23', 'F24', 'F25'], axis = 1)\n",
        "img_data1"
      ],
      "execution_count": null,
      "outputs": []
    },
    {
      "cell_type": "code",
      "metadata": {
        "id": "hfcTeFkdhWGL"
      },
      "source": [
        "save_plots(plot_polydeg, img_data1, 75, 1, 'plot15.svg')\n",
        "save_plots(plot_polygamma, img_data1, 75, 1, 'plot16.svg')\n",
        "save_plots(plot_rbfgamma, img_data1, 75, 1, 'plot17.svg')\n",
        "save_plots(plot_ktype, img_data1, 75, 1, 'plot18.svg')\n",
        "save_plots(plot_cval, img_data1, 75, 1, 'plot19.svg')"
      ],
      "execution_count": null,
      "outputs": []
    },
    {
      "cell_type": "code",
      "metadata": {
        "id": "TlA34zxYhWNM"
      },
      "source": [
        "save_plots(plot_polydeg, img_data1, 75, 1, 'plot20.svg')\n",
        "save_plots(plot_polygamma, img_data1, 75, 1, 'plot21.svg')\n",
        "save_plots(plot_rbfgamma, img_data1, 75, 1, 'plot22.svg')\n",
        "save_plots(plot_ktype, img_data1, 75, 1, 'plot23.svg')\n",
        "save_plots(plot_cval, img_data1, 75, 1, 'plot24.svg')"
      ],
      "execution_count": null,
      "outputs": []
    },
    {
      "cell_type": "code",
      "metadata": {
        "id": "BD1pil1bhWPU"
      },
      "source": [
        "img_data2 = IMAGE_DATA.drop(['F1', 'F2', 'F3', 'F4', 'F5', 'F6', 'F7', 'F8', 'F9', 'F10', 'F21', 'F22', 'F23', 'F24', 'F25'], axis = 1)\n",
        "img_data2"
      ],
      "execution_count": null,
      "outputs": []
    },
    {
      "cell_type": "code",
      "metadata": {
        "id": "cWf_6DAnhWTH"
      },
      "source": [
        "save_plots(plot_polydeg, img_data2, 75, 1, 'plot25.svg')\n",
        "save_plots(plot_polygamma, img_data2, 75, 1, 'plot26.svg')\n",
        "save_plots(plot_rbfgamma, img_data2, 75, 1, 'plot27.svg')\n",
        "save_plots(plot_ktype, img_data2, 75, 1, 'plot28.svg')\n",
        "save_plots(plot_cval, img_data2, 75, 1, 'plot29.svg')"
      ],
      "execution_count": null,
      "outputs": []
    },
    {
      "cell_type": "code",
      "metadata": {
        "id": "9NiQksM_hWW5"
      },
      "source": [
        "save_plots(plot_polydeg, img_data2, 75, 1, 'plot30.svg')\n",
        "save_plots(plot_polygamma, img_data2, 75, 1, 'plot31.svg')\n",
        "save_plots(plot_rbfgamma, img_data2, 75, 1, 'plot32.svg')\n",
        "save_plots(plot_ktype, img_data2, 75, 1, 'plot33.svg')\n",
        "save_plots(plot_cval, img_data2, 75, 1, 'plot34.svg')"
      ],
      "execution_count": null,
      "outputs": []
    },
    {
      "cell_type": "markdown",
      "metadata": {
        "id": "TBA5cPR5t-SR"
      },
      "source": [
        "## **PART 2**"
      ]
    },
    {
      "cell_type": "markdown",
      "metadata": {
        "id": "ovpCDJ8NuDOX"
      },
      "source": [
        "Load the dataset and import all required packages and libraries."
      ]
    },
    {
      "cell_type": "code",
      "metadata": {
        "colab": {
          "resources": {
            "http://localhost:8080/nbextensions/google.colab/files.js": {
              "data": "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",
              "ok": true,
              "headers": [
                [
                  "content-type",
                  "application/javascript"
                ]
              ],
              "status": 200,
              "status_text": ""
            }
          },
          "base_uri": "https://localhost:8080/",
          "height": 73
        },
        "id": "lchq1U0Myvc6",
        "outputId": "deb64085-540c-4728-969b-00674984d613"
      },
      "source": [
        "from google.colab import files\n",
        "uploaded = files.upload()"
      ],
      "execution_count": 48,
      "outputs": [
        {
          "output_type": "display_data",
          "data": {
            "text/html": [
              "\n",
              "     <input type=\"file\" id=\"files-f3a38771-b79d-4bde-9fca-4d110b37d46a\" name=\"files[]\" multiple disabled\n",
              "        style=\"border:none\" />\n",
              "     <output id=\"result-f3a38771-b79d-4bde-9fca-4d110b37d46a\">\n",
              "      Upload widget is only available when the cell has been executed in the\n",
              "      current browser session. Please rerun this cell to enable.\n",
              "      </output>\n",
              "      <script src=\"/nbextensions/google.colab/files.js\"></script> "
            ],
            "text/plain": [
              "<IPython.core.display.HTML object>"
            ]
          },
          "metadata": {}
        },
        {
          "output_type": "stream",
          "name": "stdout",
          "text": [
            "Saving train_set.csv to train_set.csv\n"
          ]
        }
      ]
    },
    {
      "cell_type": "code",
      "metadata": {
        "id": "rmexf2k2yvf7"
      },
      "source": [
        "import io\n",
        "import random\n",
        "import pandas as pd\n",
        "import numpy as np\n",
        "import matplotlib.pyplot as plt\n",
        "import math\n",
        "from PIL import Image"
      ],
      "execution_count": 49,
      "outputs": []
    },
    {
      "cell_type": "code",
      "metadata": {
        "id": "Vtf4j-1Nyvj1"
      },
      "source": [
        "TRAIN_DATA = pd.read_csv(io.BytesIO(uploaded['train_set.csv']), names=['F1', 'F2', 'F3', 'F4', 'F5', 'F6', 'F7', 'F8', 'F9', 'F10', 'F11', 'F12', 'F13', 'F14', 'F15', 'F16', 'F17', 'F18', 'F19', 'F20', 'F21', 'F22', 'F23', 'F24', 'F25', 'class_label'])\n",
        "TRAIN_DATA"
      ],
      "execution_count": null,
      "outputs": []
    },
    {
      "cell_type": "code",
      "metadata": {
        "colab": {
          "resources": {
            "http://localhost:8080/nbextensions/google.colab/files.js": {
              "data": "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",
              "ok": true,
              "headers": [
                [
                  "content-type",
                  "application/javascript"
                ]
              ],
              "status": 200,
              "status_text": ""
            }
          },
          "base_uri": "https://localhost:8080/",
          "height": 73
        },
        "id": "Os8vRxLX19Y5",
        "outputId": "267bb0f0-8f58-4ad7-fdcb-5867e3c2a783"
      },
      "source": [
        "from google.colab import files\n",
        "uploaded = files.upload()"
      ],
      "execution_count": 52,
      "outputs": [
        {
          "output_type": "display_data",
          "data": {
            "text/html": [
              "\n",
              "     <input type=\"file\" id=\"files-ceacf4f2-b836-46fb-ac93-d12c367405fd\" name=\"files[]\" multiple disabled\n",
              "        style=\"border:none\" />\n",
              "     <output id=\"result-ceacf4f2-b836-46fb-ac93-d12c367405fd\">\n",
              "      Upload widget is only available when the cell has been executed in the\n",
              "      current browser session. Please rerun this cell to enable.\n",
              "      </output>\n",
              "      <script src=\"/nbextensions/google.colab/files.js\"></script> "
            ],
            "text/plain": [
              "<IPython.core.display.HTML object>"
            ]
          },
          "metadata": {}
        },
        {
          "output_type": "stream",
          "name": "stdout",
          "text": [
            "Saving test_set.csv to test_set.csv\n"
          ]
        }
      ]
    },
    {
      "cell_type": "code",
      "metadata": {
        "id": "VLkhVZUB19ca"
      },
      "source": [
        "TEST_DATA = pd.read_csv(io.BytesIO(uploaded['test_set.csv']), names=['F1', 'F2', 'F3', 'F4', 'F5', 'F6', 'F7', 'F8', 'F9', 'F10', 'F11', 'F12', 'F13', 'F14', 'F15', 'F16', 'F17', 'F18', 'F19', 'F20', 'F21', 'F22', 'F23', 'F24', 'F25'])\n",
        "TEST_DATA"
      ],
      "execution_count": null,
      "outputs": []
    },
    {
      "cell_type": "markdown",
      "metadata": {
        "id": "dV0i5Itw0FGo"
      },
      "source": [
        "### **Sci-kit Learn Classification**"
      ]
    },
    {
      "cell_type": "code",
      "metadata": {
        "id": "5x3RjhIpyvmr"
      },
      "source": [
        "from sklearn.svm import SVC\n",
        "from sklearn.svm import LinearSVC\n",
        "from sklearn.metrics import classification_report\n",
        "from sklearn.metrics import accuracy_score"
      ],
      "execution_count": 54,
      "outputs": []
    },
    {
      "cell_type": "code",
      "metadata": {
        "id": "lmSS4P5Wyvpm"
      },
      "source": [
        "def test_sklearn(kt = 'rbf', c_value = 4, gamma_value = 0.032, deg_value = 3, train_data = TRAIN_DATA, test_data = TEST_DATA):\n",
        "  t1 = train_data.drop(['class_label'], axis = 1)\n",
        "  t1 = t1.to_numpy()\n",
        "  t2 = test_data.to_numpy()\n",
        "  t3 = train_data['class_label']\n",
        "  t3 = t3.to_numpy()\n",
        "  classifier = SVC(kernel = kt, C = c_value, gamma = gamma_value, degree = deg_value, decision_function_shape = 'ovr', )\n",
        "  classifier.fit(t1, t3)\n",
        "  Y_pred = classifier.predict(t2)\n",
        "  #print(classification_report(t4, Y_pred))\n",
        "  return Y_pred"
      ],
      "execution_count": 55,
      "outputs": []
    },
    {
      "cell_type": "code",
      "metadata": {
        "colab": {
          "base_uri": "https://localhost:8080/"
        },
        "id": "l0sAm-S91hkf",
        "outputId": "e5602bc4-71e5-4c77-f44f-d483be7347f1"
      },
      "source": [
        "test_sklearn('rbf', 4, 0.032, 3, TRAIN_DATA, TEST_DATA)"
      ],
      "execution_count": 56,
      "outputs": [
        {
          "output_type": "execute_result",
          "data": {
            "text/plain": [
              "array([1., 1., 1., ..., 0., 2., 7.])"
            ]
          },
          "metadata": {},
          "execution_count": 56
        }
      ]
    },
    {
      "cell_type": "code",
      "metadata": {
        "id": "-wFNmYDlVILL"
      },
      "source": [
        "def save_csv(ktype, cval, gamma_val, deg_val, filename):\n",
        "  final_prediction = test_sklearn(ktype, cval, gamma_val, deg_val, TRAIN_DATA, TEST_DATA)\n",
        "  my_submission = pd.DataFrame(final_prediction, columns=['Class'])\n",
        "  my_submission.to_csv(filename, index=False)\n",
        "\n",
        "  with open(filename, 'w+') as f:\n",
        "    f.write('Id,Class\\n')\n",
        "    for i in range(final_prediction.shape[0]):\n",
        "      if i + 1 < 1000: \n",
        "        f.write('{},{:d}\\n'.format(str(i+1), int(final_prediction[i])))\n",
        "      else:\n",
        "        f.write('\\\"{:01d},{:03d}\\\",{:d}\\n'.format((i+1)//1000, (i+1)%1000, int(final_prediction[i])))\n",
        "\n",
        "  #files.download(filename)\n"
      ],
      "execution_count": 58,
      "outputs": []
    },
    {
      "cell_type": "code",
      "metadata": {
        "colab": {
          "base_uri": "https://localhost:8080/",
          "height": 17
        },
        "id": "uZe8yEa8VIOz",
        "outputId": "2d5e067e-3892-43fa-d496-f01e44e6b0b5"
      },
      "source": [
        "save_csv('linear', 2, 0.03, 2, 'submission.csv')  # SCORE = 0.91750\n",
        "save_csv('poly', 2, 0.03, 2, 'submission1.csv')   # SCORE = 0.94625 => 'polynomial' kernel > 'linear' kernel\n",
        "save_csv('poly', 2, 0.03, 3, 'submission2.csv')   # SCORE = 0.95500 => (DEGREE = 3) > (DEGREE = 2) in 'polynomial' kernel\n",
        "save_csv('poly', 2, 0.03, 4, 'submission3.csv')   # SCORE = 0.93500 => (DEGREE = 3) > (DEGREE = 4) in 'polynomial' kernel\n",
        "save_csv('poly', 2, 0.03, 3, 'submission4.csv')   # SCORE = 0.95500\n",
        "save_csv('poly', 2, 0.05, 3, 'submission5.csv')   # SCORE = 0.94625 => increase in gamma value -> decrease in Score\n",
        "save_csv('poly', 2, 0.1, 3, 'submission6.csv')    # SCORE = 0.94625\n",
        "save_csv('poly', 2, 0.08, 3, 'submission7.csv')   # SCORE = 0.94625 => increase or decrease in gamma (beyong 0.5) -> no change in Score\n",
        "save_csv('poly', 4, 0.03, 3, 'submission8.csv')   # SCORE = 0.94875 \n",
        "save_csv('poly', 6, 0.03, 3, 'submission9.csv')   # SCORE = 0.94375 => increase or decrease in C -> slight change in Score"
      ],
      "execution_count": null,
      "outputs": [
        {
          "output_type": "display_data",
          "data": {
            "application/javascript": [
              "\n",
              "    async function download(id, filename, size) {\n",
              "      if (!google.colab.kernel.accessAllowed) {\n",
              "        return;\n",
              "      }\n",
              "      const div = document.createElement('div');\n",
              "      const label = document.createElement('label');\n",
              "      label.textContent = `Downloading \"${filename}\": `;\n",
              "      div.appendChild(label);\n",
              "      const progress = document.createElement('progress');\n",
              "      progress.max = size;\n",
              "      div.appendChild(progress);\n",
              "      document.body.appendChild(div);\n",
              "\n",
              "      const buffers = [];\n",
              "      let downloaded = 0;\n",
              "\n",
              "      const channel = await google.colab.kernel.comms.open(id);\n",
              "      // Send a message to notify the kernel that we're ready.\n",
              "      channel.send({})\n",
              "\n",
              "      for await (const message of channel.messages) {\n",
              "        // Send a message to notify the kernel that we're ready.\n",
              "        channel.send({})\n",
              "        if (message.buffers) {\n",
              "          for (const buffer of message.buffers) {\n",
              "            buffers.push(buffer);\n",
              "            downloaded += buffer.byteLength;\n",
              "            progress.value = downloaded;\n",
              "          }\n",
              "        }\n",
              "      }\n",
              "      const blob = new Blob(buffers, {type: 'application/binary'});\n",
              "      const a = document.createElement('a');\n",
              "      a.href = window.URL.createObjectURL(blob);\n",
              "      a.download = filename;\n",
              "      div.appendChild(a);\n",
              "      a.click();\n",
              "      div.remove();\n",
              "    }\n",
              "  "
            ],
            "text/plain": [
              "<IPython.core.display.Javascript object>"
            ]
          },
          "metadata": {}
        },
        {
          "output_type": "display_data",
          "data": {
            "application/javascript": [
              "download(\"download_109f392a-2c62-4fe6-9d31-82286b03e38b\", \"submission.csv\", 15905)"
            ],
            "text/plain": [
              "<IPython.core.display.Javascript object>"
            ]
          },
          "metadata": {}
        }
      ]
    },
    {
      "cell_type": "code",
      "metadata": {
        "id": "kId39NLBVIR4"
      },
      "source": [
        "save_csv('poly', 2, 0.03, 3, 'submission4.csv')   # SCORE = 0.95500\n",
        "save_csv('rbf', 2, 0.03, 3, 'submission10.csv')   # SCORE = 0.96625 => 'rbf' kernel > 'polynomial' kernel\n",
        "save_csv('rbf', 2, 0.05, 3, 'submission11.csv')   # SCORE = 0.96625\n",
        "save_csv('rbf', 2, 0.1, 3, 'submission12.csv')    # SCORE = 0.96500\n",
        "save_csv('rbf', 2, 0.2, 3, 'submission13.csv')    # SCORE = 0.92125\n",
        "save_csv('rbf', 2, 0.15, 3, 'submission14.csv')    # SCORE = 0.95625\n",
        "save_csv('rbf', 2, 0.07, 3, 'submission15.csv')    # SCORE = 0.96750 \n",
        "save_csv('rbf', 2, 0.08, 3, 'submission16.csv')    # SCORE = 0.96750 => increase in Score till gamma = 0.8 and then decrease \n",
        "\n",
        "save_csv('rbf', 2, 0.08, 2, 'submission17.csv')    # SCORE = 0.96750 \n",
        "save_csv('rbf', 2, 0.08, 4, 'submission18.csv')    # SCORE = 0.96750 => no change in Score with variation in degree\n",
        "\n",
        "save_csv('rbf', 4, 0.08, 3, 'submission19.csv')    # SCORE = 0.96750 \n",
        "save_csv('rbf', 8, 0.08, 3, 'submission20.csv')    # SCORE = 0.96875  \n",
        "save_csv('rbf', 16, 0.08, 3, 'submission21.csv')    # SCORE = 0.96875  \n",
        "save_csv('rbf', 32, 0.08, 3, 'submission22.csv')    # SCORE = 0.96875 => slight increase in Score till C = 8 followed by no change  \n",
        "\n"
      ],
      "execution_count": null,
      "outputs": []
    },
    {
      "cell_type": "markdown",
      "metadata": {
        "id": "SvoYg-v34--i"
      },
      "source": [
        "Scores follow the trend :<br>\n",
        "\n",
        "*   Linear < Polynomial < RBF\n",
        "*   (For Polynomial) C = 2, gamma = 0.03, degree = 3 \n",
        "*   **(For RBF) C = 8, gamma = 0.08, degree = 3** (optimal case, Score =0.96875)\n",
        "\n",
        "\n",
        "\n"
      ]
    }
  ]
}